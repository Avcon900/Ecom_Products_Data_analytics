{
 "cells": [
  {
   "cell_type": "code",
   "execution_count": 1,
   "id": "86e07081",
   "metadata": {},
   "outputs": [],
   "source": [
    "import os\n",
    "os.environ[\"PYSPARK_PYTHON\"] = \"./env/Scripts/python.exe\"\n",
    "os.environ[\"PYSPARK_DRIVER_PYTHON\"] = \"./env/Scripts/python.exe\""
   ]
  },
  {
   "cell_type": "code",
   "execution_count": 2,
   "id": "9bc7f171",
   "metadata": {},
   "outputs": [
    {
     "name": "stdout",
     "output_type": "stream",
     "text": [
      "New CSV files found: ['data\\\\controllers_raw_scraped.csv', 'data\\\\headphones_raw_scraped.csv']\n"
     ]
    }
   ],
   "source": [
    "# Check for new files in the data directory\n",
    "\n",
    "import os\n",
    "import json\n",
    "\n",
    "# Constants\n",
    "DATA_DIR = \"data\"\n",
    "TRACKER_FILE = \"file_tracker.json\"\n",
    "\n",
    "# Load previously seen files (if any)\n",
    "if os.path.exists(TRACKER_FILE):\n",
    "    with open(TRACKER_FILE, \"r\") as f:\n",
    "        seen_files = set(json.load(f))\n",
    "else:\n",
    "    seen_files = set()\n",
    "\n",
    "# Scan current files\n",
    "current_files = set(\n",
    "    os.path.join(DATA_DIR, file)\n",
    "    for file in os.listdir(DATA_DIR)\n",
    "    if file.endswith(\".csv\") and os.path.isfile(os.path.join(DATA_DIR, file))\n",
    ")\n",
    "\n",
    "# Identify new files\n",
    "new_files = current_files - seen_files\n",
    "\n",
    "# Store relative paths in `path`\n",
    "path = sorted(new_files)\n",
    "\n",
    "# Save current state for next run\n",
    "with open(TRACKER_FILE, \"w\") as f:\n",
    "    json.dump(sorted(current_files), f)\n",
    "\n",
    "# Output the new files found\n",
    "\n",
    "print(\"New CSV files found:\", path)\n"
   ]
  },
  {
   "cell_type": "code",
   "execution_count": 3,
   "id": "69c842e7",
   "metadata": {},
   "outputs": [],
   "source": [
    "# One-time creation of base directories\n",
    "os.makedirs(\"data_lake/bronze\", exist_ok=True)"
   ]
  },
  {
   "cell_type": "code",
   "execution_count": 4,
   "id": "034f89aa",
   "metadata": {},
   "outputs": [],
   "source": [
    "import pyspark\n",
    "from delta import *\n",
    "\n",
    "builder = pyspark.sql.SparkSession.builder.appName(\"MyApp\") \\\n",
    "    .config(\"spark.sql.extensions\", \"io.delta.sql.DeltaSparkSessionExtension\") \\\n",
    "    .config(\"spark.sql.catalog.spark_catalog\", \"org.apache.spark.sql.delta.catalog.DeltaCatalog\")\n",
    "\n",
    "spark = configure_spark_with_delta_pip(builder).getOrCreate()"
   ]
  },
  {
   "cell_type": "code",
   "execution_count": 5,
   "id": "a1a80046",
   "metadata": {},
   "outputs": [
    {
     "name": "stdout",
     "output_type": "stream",
     "text": [
      "Processed and saved data\\controllers_raw_scraped.csv to Delta Lake in controllers directory.\n",
      "Processed and saved data\\headphones_raw_scraped.csv to Delta Lake in headphones directory.\n"
     ]
    }
   ],
   "source": [
    "# Process new files\n",
    "if len(path) == 0:\n",
    "    print(\"No new files to process.\")\n",
    "else:\n",
    "    for file in path:\n",
    "        filename = os.path.basename(file)\n",
    "        first_word = filename.split('_')[0]\n",
    "        os.makedirs(os.path.join(\"data_lake\", \"bronze\", first_word), exist_ok=True)\n",
    "\n",
    "        # Read the CSV file\n",
    "        df = spark.read.option(\"header\", \"true\").csv(file, inferSchema=False)\n",
    "        \n",
    "\n",
    "        # Write to Delta Lake\n",
    "        df.write.format(\"delta\").mode(\"overwrite\").save(os.path.join(\"data_lake\", \"bronze\", first_word))\n",
    "        print(f\"Processed and saved {file} to Delta Lake in {first_word} directory.\")\n"
   ]
  },
  {
   "cell_type": "code",
   "execution_count": 6,
   "id": "9299c044",
   "metadata": {},
   "outputs": [
    {
     "name": "stdout",
     "output_type": "stream",
     "text": [
      "Total records: 432\n",
      "root\n",
      " |-- Title: string (nullable = true)\n",
      " |-- Number_of_Reviews: string (nullable = true)\n",
      " |-- Rating: string (nullable = true)\n",
      " |-- Bought_Last_Month: string (nullable = true)\n",
      " |-- Price_After_Discount: string (nullable = true)\n",
      " |-- MRP: string (nullable = true)\n",
      " |-- Image_URL: string (nullable = true)\n",
      " |-- Product_ID: string (nullable = true)\n",
      " |-- Star_Rating_Percentage: string (nullable = true)\n",
      "\n",
      "+----------------------------------------------------------------------------------------------------------------------------------------------------------------------------------------------------------------------------------------------------------+-----------------+----------------------------------+-------------------------+--------------------+------+--------------------------------------------------------------+----------+------------------------------------------------+\n",
      "|Title                                                                                                                                                                                                                                                     |Number_of_Reviews|Rating                            |Bought_Last_Month        |Price_After_Discount|MRP   |Image_URL                                                     |Product_ID|Star_Rating_Percentage                          |\n",
      "+----------------------------------------------------------------------------------------------------------------------------------------------------------------------------------------------------------------------------------------------------------+-----------------+----------------------------------+-------------------------+--------------------+------+--------------------------------------------------------------+----------+------------------------------------------------+\n",
      "|EvoFox One S Universal 3-Mode Wireless Gaming Controller – HallSense™ Precision Joysticks, Bluetooth 5.0, 2.4GHz & Wired Connectivity, Macro & Precision Buttons, Fast Type-C Charging & Dual Vibration, for PC, Mobile, Android TV, PS4 & Console Gaming.|1,075            |4.1 out of 5 stars, rating details|400+ bought in past month|1,599               |₹2,299|https://m.media-amazon.com/images/I/61ZMQy4ln1L._AC_UY218_.jpg|1         |{5: '61%', 4: '18%', 3: '6%', 2: '4%', 1: '11%'}|\n",
      "|EvoFox Elite X Wired Gaming Controller for PC with 2 Programmable Macro Back Buttons, Adjustable Dual Vibration Motors,Turbo Mode,Analog Triggers, High Precision joysticks,Low Latency Plug and Play,Translucent Shell Controller for pc                 |2,607            |4.0 out of 5 stars, rating details|1K+ bought in past month |1,099               |₹1,899|https://m.media-amazon.com/images/I/61SLwruzA-L._AC_UY218_.jpg|2         |{5: '56%', 4: '20%', 3: '8%', 2: '4%', 1: '12%'}|\n",
      "|Cosmic Byte ARES Wired Controller for PC, Magnetic Triggers, Accurate Joysticks, Dual Vibration, Backit LED Buttons (Black)                                                                                                                               |1,570            |4.3 out of 5 stars, rating details|1K+ bought in past month |1,099               |₹2,499|https://m.media-amazon.com/images/I/518T5womMxL._AC_UY218_.jpg|3         |{5: '63%', 4: '23%', 3: '6%', 2: '2%', 1: '6%'} |\n",
      "|Cosmic Byte ARES Wireless Controller for PC, Magnetic Triggers, Accurate Joysticks, Dual Vibration, Backit LED Buttons, USB Extension Cable (Black)                                                                                                       |3,165            |4.2 out of 5 stars, rating details|500+ bought in past month|1,499               |₹2,199|https://m.media-amazon.com/images/I/61xf2zTjBeL._AC_UY218_.jpg|4         |{5: '61%', 4: '21%', 3: '6%', 2: '2%', 1: '10%'}|\n",
      "|Cosmic Byte ARES Wireless Controller for PC, Magnetic Triggers, Accurate Joysticks, Dual Vibration, Backit LED Buttons, USB Extension Cable (White)                                                                                                       |1,570            |4.3 out of 5 stars, rating details|500+ bought in past month|1,549               |₹3,299|https://m.media-amazon.com/images/I/51vJ+lDkcKL._AC_UY218_.jpg|5         |{5: '63%', 4: '23%', 3: '6%', 2: '2%', 1: '6%'} |\n",
      "+----------------------------------------------------------------------------------------------------------------------------------------------------------------------------------------------------------------------------------------------------------+-----------------+----------------------------------+-------------------------+--------------------+------+--------------------------------------------------------------+----------+------------------------------------------------+\n",
      "only showing top 5 rows\n",
      "\n",
      "+-------+--------------------+------------------+--------------------+--------------------+--------------------+----+--------------------+------------------+----------------------+\n",
      "|summary|               Title| Number_of_Reviews|              Rating|   Bought_Last_Month|Price_After_Discount| MRP|           Image_URL|        Product_ID|Star_Rating_Percentage|\n",
      "+-------+--------------------+------------------+--------------------+--------------------+--------------------+----+--------------------+------------------+----------------------+\n",
      "|  count|                 430|               430|                 432|                 432|                 430| 430|                 432|               432|                   432|\n",
      "|   mean|                null|125.40338983050847|                null|                null|   526.2831858407079|null|                null|             216.5|                  null|\n",
      "| stddev|                null|190.12220377804994|                null|                null|  261.47961786814665|null|                null|124.85191228010886|                  null|\n",
      "|    min|(Refurbished) Ant...|                 1|1.0 out of 5 star...|100+ bought in pa...|               1,034|null|https://m.media-a...|                 1|  {5: '0%', 4: '0%'...|\n",
      "|    max|zitronix® Gaming ...|              null|                null|                null|                null|₹999|                null|                99|  {5: 'null', 4: 'n...|\n",
      "+-------+--------------------+------------------+--------------------+--------------------+--------------------+----+--------------------+------------------+----------------------+\n",
      "\n"
     ]
    }
   ],
   "source": [
    "# Verify the data in Delta Lake\n",
    "bronze_df = spark.read.format(\"delta\").load(\"data_lake/bronze/controllers\")\n",
    "\n",
    "# Print number of records\n",
    "print(f\"Total records: {bronze_df.count()}\")\n",
    "\n",
    "# Show schema\n",
    "bronze_df.printSchema()\n",
    "\n",
    "# Show sample records\n",
    "bronze_df.show(5, truncate=False)\n",
    "\n",
    "# Optional: Describe table for more metadata\n",
    "bronze_df.describe().show() "
   ]
  }
 ],
 "metadata": {
  "kernelspec": {
   "display_name": "env",
   "language": "python",
   "name": "python3"
  },
  "language_info": {
   "codemirror_mode": {
    "name": "ipython",
    "version": 3
   },
   "file_extension": ".py",
   "mimetype": "text/x-python",
   "name": "python",
   "nbconvert_exporter": "python",
   "pygments_lexer": "ipython3",
   "version": "3.10.0"
  }
 },
 "nbformat": 4,
 "nbformat_minor": 5
}
