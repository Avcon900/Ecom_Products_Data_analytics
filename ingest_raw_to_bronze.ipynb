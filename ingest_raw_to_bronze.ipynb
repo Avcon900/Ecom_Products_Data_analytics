{
 "cells": [
  {
   "cell_type": "code",
   "execution_count": 4,
   "id": "86e07081",
   "metadata": {},
   "outputs": [],
   "source": [
    "import os\n",
    "os.environ[\"PYSPARK_PYTHON\"] = \"./env/Scripts/python.exe\"\n",
    "os.environ[\"PYSPARK_DRIVER_PYTHON\"] = \"./env/Scripts/python.exe\""
   ]
  },
  {
   "cell_type": "code",
   "execution_count": 5,
   "id": "9bc7f171",
   "metadata": {},
   "outputs": [
    {
     "name": "stdout",
     "output_type": "stream",
     "text": [
      "New CSV files found: []\n"
     ]
    }
   ],
   "source": [
    "# Check for new files in the data directory\n",
    "\n",
    "import os\n",
    "import json\n",
    "\n",
    "# Constants\n",
    "DATA_DIR = \"data\"\n",
    "TRACKER_FILE = \"file_tracker_bronze.json\"\n",
    "\n",
    "# Load previously seen files (if any)\n",
    "if os.path.exists(TRACKER_FILE):\n",
    "    with open(TRACKER_FILE, \"r\") as f:\n",
    "        seen_files = set(json.load(f))\n",
    "else:\n",
    "    seen_files = set()\n",
    "\n",
    "# Scan current files\n",
    "current_files = set(\n",
    "    os.path.join(DATA_DIR, file)\n",
    "    for file in os.listdir(DATA_DIR)\n",
    "    if file.endswith(\".csv\") and os.path.isfile(os.path.join(DATA_DIR, file))\n",
    ")\n",
    "\n",
    "# Identify new files\n",
    "new_files = current_files - seen_files\n",
    "\n",
    "# Store relative paths in `path`\n",
    "path = sorted(new_files)\n",
    "\n",
    "# Save current state for next run\n",
    "with open(TRACKER_FILE, \"w\") as f:\n",
    "    json.dump(sorted(current_files), f)\n",
    "\n",
    "# Output the new files found\n",
    "\n",
    "print(\"New CSV files found:\", path)\n"
   ]
  },
  {
   "cell_type": "code",
   "execution_count": 6,
   "id": "69c842e7",
   "metadata": {},
   "outputs": [],
   "source": [
    "# One-time creation of base directories\n",
    "os.makedirs(\"data_lake/bronze/products\", exist_ok=True)"
   ]
  },
  {
   "cell_type": "code",
   "execution_count": 7,
   "id": "034f89aa",
   "metadata": {},
   "outputs": [],
   "source": [
    "import pyspark\n",
    "from delta import *\n",
    "from pyspark.sql.functions import lit\n",
    "\n",
    "builder = pyspark.sql.SparkSession.builder.appName(\"MyApp\") \\\n",
    "    .config(\"spark.sql.extensions\", \"io.delta.sql.DeltaSparkSessionExtension\") \\\n",
    "    .config(\"spark.sql.catalog.spark_catalog\", \"org.apache.spark.sql.delta.catalog.DeltaCatalog\")\n",
    "\n",
    "spark = configure_spark_with_delta_pip(builder).getOrCreate()"
   ]
  },
  {
   "cell_type": "code",
   "execution_count": 8,
   "id": "a1a80046",
   "metadata": {},
   "outputs": [
    {
     "name": "stdout",
     "output_type": "stream",
     "text": [
      "No new files to process.\n"
     ]
    }
   ],
   "source": [
    "from pyspark.sql.functions import col, to_timestamp, to_date\n",
    "\n",
    "# Process new files\n",
    "if len(path) == 0:\n",
    "    print(\"No new files to process.\")\n",
    "else:\n",
    "    for file in path:\n",
    "        # Read the CSV file\n",
    "        df = spark.read.option(\"header\", \"true\").csv(file, inferSchema=False)\n",
    "\n",
    "        # Extract date column from timestamp\n",
    "        df = df.withColumn(\n",
    "        \"timestamp_parsed\",\n",
    "        to_timestamp(col(\"TIMESTAMP\"), \"yyyy-MM-dd HH:mm:ss\")\n",
    "        )\n",
    "\n",
    "\n",
    "        df = df.withColumn(\n",
    "        \"date\",\n",
    "        to_date(col(\"timestamp_parsed\"))\n",
    "        )\n",
    "\n",
    "        df = df.drop(\"timestamp_parsed\")\n",
    "        \n",
    "        df = df.dropna(subset=[\"TIMESTAMP\", \"date\"])\n",
    "\n",
    "        # Write to Delta Lake & partition by date\n",
    "        df.write.format(\"delta\").mode(\"append\").partitionBy(\"date\").save(\"data_lake/bronze/products/\")\n",
    "        print(f\"Processed and saved {file} to Delta Lake..\")"
   ]
  },
  {
   "cell_type": "code",
   "execution_count": 9,
   "id": "9299c044",
   "metadata": {},
   "outputs": [
    {
     "name": "stdout",
     "output_type": "stream",
     "text": [
      "Total records: 1901\n",
      "root\n",
      " |-- Title: string (nullable = true)\n",
      " |-- Number_of_Reviews: string (nullable = true)\n",
      " |-- Rating: string (nullable = true)\n",
      " |-- Bought_Last_Month: string (nullable = true)\n",
      " |-- Price_After_Discount: string (nullable = true)\n",
      " |-- MRP: string (nullable = true)\n",
      " |-- Image_URL: string (nullable = true)\n",
      " |-- Star_Rating_Percentage: string (nullable = true)\n",
      " |-- Category: string (nullable = true)\n",
      " |-- Product_ID: string (nullable = true)\n",
      " |-- TIMESTAMP: string (nullable = true)\n",
      " |-- date: date (nullable = true)\n",
      "\n",
      "+--------------------------------------------------------------------------------------------------------------------------------------------------------------------------------------------------------+-----------------+----------------------------------+------------------------+--------------------+------+--------------------------------------------------------------+-------------------------------------------------------+----------+----------+-------------------+----------+\n",
      "|Title                                                                                                                                                                                                   |Number_of_Reviews|Rating                            |Bought_Last_Month       |Price_After_Discount|MRP   |Image_URL                                                     |Star_Rating_Percentage                                 |Category  |Product_ID|TIMESTAMP          |date      |\n",
      "+--------------------------------------------------------------------------------------------------------------------------------------------------------------------------------------------------------+-----------------+----------------------------------+------------------------+--------------------+------+--------------------------------------------------------------+-------------------------------------------------------+----------+----------+-------------------+----------+\n",
      "|soundcore by Anker Q20i Wireless Bluetooth Over-Ear Headphones with Hybrid Active Noise Cancelling, 40h Playtime in ANC Mode, Hi-Res Audio, Deep Bass, Personalization via App (Black)                  |32,476           |4.3 out of 5 stars, rating details|2K+ bought in past month|4,498               |₹9,598|https://m.media-amazon.com/images/I/51CnDMbXZzL._AC_UY218_.jpg|{5: '61%', 4: '23%', 3: '7%', 2: '4%', 1: '5%'}        |Headphones|1         |2025-07-19 03:47:20|2025-07-19|\n",
      "|Boult Newly Launched Soniq Over Ear Bluetooth Headphones with 70H Playtime, 40mm Bass Drivers, Zen™ ENC Mic, Type-C Fast Charging, Dual Device Pairing, BTv 5.4, AUX Option, Wireless Headphones (White)|44               |4.1 out of 5 stars, rating details|1K+ bought in past month|1,999               |₹5,999|https://m.media-amazon.com/images/I/71H7RtDgncL._AC_UY218_.jpg|{5: 'null', 4: 'null', 3: 'null', 2: 'null', 1: 'null'}|Headphones|2         |2025-07-19 03:47:20|2025-07-19|\n",
      "|boAt Rockerz 480 W/RGB LEDs, 6 Light Modes, 40Mm Drivers, Beast Mode, 60Hrs Playback, Enx Tech, BT V5.3, Adaptive Fit & Easy Access Controls, Bluetooth Over Ear Headphones(White Sabre)                |1,612            |4.1 out of 5 stars, rating details|4K+ bought in past month|1,799               |₹3,790|https://m.media-amazon.com/images/I/61cIHzCDl6L._AC_UY218_.jpg|{5: 'null', 4: 'null', 3: 'null', 2: 'null', 1: 'null'}|Headphones|3         |2025-07-19 03:47:20|2025-07-19|\n",
      "|boAt Rockerz 425 Bluetooth Wireless On Ear Headphones Signature Sound, Enx Tech, ASAP Charge, 25H Playtime, Bluetooth V5.2, Dual Pairing with Mic (Ash Grey)                                            |4,338            |3.6 out of 5 stars, rating details|1K+ bought in past month|1,499               |₹2,999|https://m.media-amazon.com/images/I/61R4Tj5podL._AC_UY218_.jpg|{5: 'null', 4: 'null', 3: 'null', 2: 'null', 1: 'null'}|Headphones|4         |2025-07-19 03:47:20|2025-07-19|\n",
      "|boAt Rockerz 450, 15 HRS Battery, 40mm Drivers, Padded Ear Cushions, Integrated Controls, Dual Modes, On Ear Bluetooth Headphones, Wireless Headphone with Mic (Luscious Black)                         |118,570          |4.0 out of 5 stars, rating details|5K+ bought in past month|1,499               |₹3,990|https://m.media-amazon.com/images/I/51FNnHjzhQL._AC_UY218_.jpg|{5: 'null', 4: 'null', 3: 'null', 2: 'null', 1: 'null'}|Headphones|5         |2025-07-19 03:47:20|2025-07-19|\n",
      "+--------------------------------------------------------------------------------------------------------------------------------------------------------------------------------------------------------+-----------------+----------------------------------+------------------------+--------------------+------+--------------------------------------------------------------+-------------------------------------------------------+----------+----------+-------------------+----------+\n",
      "only showing top 5 rows\n",
      "\n",
      "+-------+--------------------+------------------+--------------------+--------------------+--------------------+----+--------------------+----------------------+------------------+------------------+-------------------+\n",
      "|summary|               Title| Number_of_Reviews|              Rating|   Bought_Last_Month|Price_After_Discount| MRP|           Image_URL|Star_Rating_Percentage|          Category|        Product_ID|          TIMESTAMP|\n",
      "+-------+--------------------+------------------+--------------------+--------------------+--------------------+----+--------------------+----------------------+------------------+------------------+-------------------+\n",
      "|  count|                1901|              1901|                1901|                1901|                1901|1901|                1901|                  1901|              1901|              1901|               1901|\n",
      "|   mean|                null|170.42222222222222|                null|                null|   598.9651162790698|null|                null|                  null|              null|239.14992109416096|               null|\n",
      "| stddev|                null| 225.6937392037124|                null|                null|   261.6469233188156|null|                null|                  null|              null| 138.9594001147707|               null|\n",
      "|    min|\"V-Guard Crystal ...|                 1|1.0 out of 5 star...|100+ bought in pa...|            1,03,490|null|https://m.media-a...|  {5: '0%', 4: '0%'...|Gaming Controllers|                 1|2025-07-19 03:47:20|\n",
      "|    max|zitronix® Gaming ...|              null|                null|                null|                null|₹999|                null|  {5: 'null', 4: 'n...|          Smart TV|                99|2025-07-19 03:47:20|\n",
      "+-------+--------------------+------------------+--------------------+--------------------+--------------------+----+--------------------+----------------------+------------------+------------------+-------------------+\n",
      "\n",
      "+----------+-----+\n",
      "|      date|count|\n",
      "+----------+-----+\n",
      "|2025-07-19| 1901|\n",
      "+----------+-----+\n",
      "\n"
     ]
    }
   ],
   "source": [
    "# Verify the data in Delta Lake\n",
    "bronze_df = spark.read.format(\"delta\").load(\"data_lake/bronze/products\")\n",
    "\n",
    "# Print number of records\n",
    "print(f\"Total records: {bronze_df.count()}\")\n",
    "\n",
    "# Show schema\n",
    "bronze_df.printSchema()\n",
    "\n",
    "# Show sample records\n",
    "bronze_df.show(5, truncate=False)\n",
    "\n",
    "# Optional: Describe table for more metadata\n",
    "bronze_df.describe().show() \n",
    "\n",
    "# Count records by category\n",
    "bronze_df.groupBy(\"date\").count().show()"
   ]
  }
 ],
 "metadata": {
  "kernelspec": {
   "display_name": "env",
   "language": "python",
   "name": "python3"
  },
  "language_info": {
   "codemirror_mode": {
    "name": "ipython",
    "version": 3
   },
   "file_extension": ".py",
   "mimetype": "text/x-python",
   "name": "python",
   "nbconvert_exporter": "python",
   "pygments_lexer": "ipython3",
   "version": "3.10.0"
  }
 },
 "nbformat": 4,
 "nbformat_minor": 5
}
