{
 "cells": [
  {
   "cell_type": "code",
   "execution_count": 1,
   "id": "318b8aba",
   "metadata": {},
   "outputs": [],
   "source": [
    "import os\n",
    "os.environ[\"PYSPARK_PYTHON\"] = \"./env/Scripts/python.exe\"\n",
    "os.environ[\"PYSPARK_DRIVER_PYTHON\"] = \"./env/Scripts/python.exe\"\n",
    "\n",
    "# Sets up a PySpark session with Delta Lake support\n",
    "import pyspark\n",
    "from delta import *\n",
    "\n",
    "builder = pyspark.sql.SparkSession.builder.appName(\"MyApp\") \\\n",
    "    .config(\"spark.sql.extensions\", \"io.delta.sql.DeltaSparkSessionExtension\") \\\n",
    "    .config(\"spark.sql.catalog.spark_catalog\", \"org.apache.spark.sql.delta.catalog.DeltaCatalog\") \\\n",
    "    .config(\"spark.sql.warehouse.dir\", \"spark-warehouse\") \\\n",
    "    .master(\"local[8]\") \\\n",
    "    .enableHiveSupport() \\\n",
    "\n",
    "spark = configure_spark_with_delta_pip(builder).getOrCreate()"
   ]
  },
  {
   "cell_type": "code",
   "execution_count": 2,
   "id": "334b5641",
   "metadata": {},
   "outputs": [
    {
     "data": {
      "text/plain": [
       "DataFrame[]"
      ]
     },
     "execution_count": 2,
     "metadata": {},
     "output_type": "execute_result"
    }
   ],
   "source": [
    "# Create the database if it does not exist\n",
    "\n",
    "spark.sql(\"CREATE DATABASE IF NOT EXISTS Ecom_Products_Data_Pipeline\")\n",
    "\n",
    "spark.sql(\"USE Ecom_Products_Data_Pipeline\")\n",
    "\n",
    "# Define the path for the silver table\n",
    "\n",
    "silver_path = os.path.abspath(\"data_lake/silver/products\").replace(\"\\\\\", \"/\")\n",
    "\n",
    "# Create the silver table if it does not exist\n",
    "spark.sql(f\"\"\"\n",
    "    CREATE TABLE IF NOT EXISTS Ecom_Products_Data_Pipeline.products_silver\n",
    "    USING DELTA\n",
    "    LOCATION '{silver_path}'\n",
    "\"\"\")"
   ]
  },
  {
   "cell_type": "code",
   "execution_count": 3,
   "id": "1785e16e",
   "metadata": {},
   "outputs": [
    {
     "name": "stdout",
     "output_type": "stream",
     "text": [
      "+--------------------+\n",
      "|           namespace|\n",
      "+--------------------+\n",
      "|             default|\n",
      "|ecom_products_dat...|\n",
      "+--------------------+\n",
      "\n",
      "+--------------------+---------------+-----------+\n",
      "|           namespace|      tableName|isTemporary|\n",
      "+--------------------+---------------+-----------+\n",
      "|ecom_products_dat...|products_silver|      false|\n",
      "+--------------------+---------------+-----------+\n",
      "\n"
     ]
    }
   ],
   "source": [
    "spark.sql(\"SHOW DATABASES\").show()\n",
    "spark.sql(\"SHOW TABLES IN Ecom_Products_Data_Pipeline\").show()"
   ]
  },
  {
   "cell_type": "code",
   "execution_count": 6,
   "id": "9f006a4f",
   "metadata": {},
   "outputs": [
    {
     "name": "stdout",
     "output_type": "stream",
     "text": [
      "No previous high-watermark found. Initializing to: 1970-01-01\n",
      "+--------------------+------+-------------+---------------+-------------------+----------------+-------------+----------+--------------------+--------------------+---------------------+-------------------+-------------------+----------------+--------------------+-----------+\n",
      "|        Product_Name|   MRP|Current_Price|Discount_Amount|Discount_Percentage|Last_Month_Sales|Total_Reviews|Avg_Rating|Five_Star_Percentage|Four_Star_Percentage|Three_Star_Percentage|Two_Star_Percentage|One_Star_Percentage|Product_Category|               Image|Scrape_Date|\n",
      "+--------------------+------+-------------+---------------+-------------------+----------------+-------------+----------+--------------------+--------------------+---------------------+-------------------+-------------------+----------------+--------------------+-----------+\n",
      "|soundcore by Anke...|9598.0|       4498.0|         5100.0| 0.5313607001458637|            2000|        32476|       4.3|                61.0|                23.0|                  7.0|                4.0|                5.0|      Headphones|https://m.media-a...| 2025-07-19|\n",
      "|Boult Newly Launc...|5999.0|       1999.0|         4000.0| 0.6667777962993833|            1000|           44|       4.1|                null|                null|                 null|               null|               null|      Headphones|https://m.media-a...| 2025-07-19|\n",
      "|boAt Rockerz 480 ...|3790.0|       1799.0|         1991.0|   0.52532981530343|            4000|         1612|       4.1|                null|                null|                 null|               null|               null|      Headphones|https://m.media-a...| 2025-07-19|\n",
      "|boAt Rockerz 425 ...|2999.0|       1499.0|         1500.0| 0.5001667222407469|            1000|         4338|       3.6|                null|                null|                 null|               null|               null|      Headphones|https://m.media-a...| 2025-07-19|\n",
      "|boAt Rockerz 450,...|3990.0|       1499.0|         2491.0| 0.6243107769423559|            5000|       118570|       4.0|                null|                null|                 null|               null|               null|      Headphones|https://m.media-a...| 2025-07-19|\n",
      "+--------------------+------+-------------+---------------+-------------------+----------------+-------------+----------+--------------------+--------------------+---------------------+-------------------+-------------------+----------------+--------------------+-----------+\n",
      "only showing top 5 rows\n",
      "\n",
      "== Parsed Logical Plan ==\n",
      "'Project ['Product_Name, 'MRP, 'Price_After_Discount AS Current_Price#848, ('MRP - 'Current_Price) AS Discount_Amount#849, ('Discount_Amount / 'MRP) AS Discount_Percentage#850, 'Bought_Last_Month AS Last_Month_Sales#851, 'Number_of_Reviews AS Total_Reviews#852, 'Rating AS Avg_Rating#853, '5_Star_Percentage AS Five_Star_Percentage#854, '4_Star_Percentage AS Four_Star_Percentage#855, '3_Star_Percentage AS Three_Star_Percentage#856, '2_Star_Percentage AS Two_Star_Percentage#857, '1_Star_Percentage AS One_Star_Percentage#858, 'category AS Product_Category#859, 'Image_URL AS Image#860, 'scrape_date AS Scrape_Date#861]\n",
      "+- 'Filter ('scrape_date > 'DATE(1970-01-01))\n",
      "   +- 'SubqueryAlias products_silver\n",
      "      +- 'UnresolvedRelation [ecom_products_data_pipeline, products_silver], [], false\n",
      "\n",
      "== Analyzed Logical Plan ==\n",
      "Product_Name: string, MRP: float, Current_Price: float, Discount_Amount: float, Discount_Percentage: double, Last_Month_Sales: int, Total_Reviews: int, Avg_Rating: double, Five_Star_Percentage: float, Four_Star_Percentage: float, Three_Star_Percentage: float, Two_Star_Percentage: float, One_Star_Percentage: float, Product_Category: string, Image: string, Scrape_Date: date\n",
      "Project [Product_Name#877, MRP#876, Current_Price#848, Discount_Amount#849, (cast(Discount_Amount#849 as double) / cast(MRP#876 as double)) AS Discount_Percentage#850, Bought_Last_Month#873 AS Last_Month_Sales#851, Number_of_Reviews#863 AS Total_Reviews#852, Rating#874 AS Avg_Rating#853, 5_Star_Percentage#868 AS Five_Star_Percentage#854, 4_Star_Percentage#869 AS Four_Star_Percentage#855, 3_Star_Percentage#870 AS Three_Star_Percentage#856, 2_Star_Percentage#871 AS Two_Star_Percentage#857, 1_Star_Percentage#872 AS One_Star_Percentage#858, category#865 AS Product_Category#859, Image_URL#864 AS Image#860, scrape_date#867 AS Scrape_Date#861]\n",
      "+- Project [Title#862, Number_of_Reviews#863, Image_URL#864, Category#865, TIMESTAMP#866, scrape_date#867, 5_Star_Percentage#868, 4_Star_Percentage#869, 3_Star_Percentage#870, 2_Star_Percentage#871, 1_Star_Percentage#872, Bought_Last_Month#873, Rating#874, Price_After_Discount#875, MRP#876, Product_Name#877, Current_Price#848, (MRP#876 - Current_Price#848) AS Discount_Amount#849]\n",
      "   +- Project [Title#862, Number_of_Reviews#863, Image_URL#864, Category#865, TIMESTAMP#866, scrape_date#867, 5_Star_Percentage#868, 4_Star_Percentage#869, 3_Star_Percentage#870, 2_Star_Percentage#871, 1_Star_Percentage#872, Bought_Last_Month#873, Rating#874, Price_After_Discount#875, MRP#876, Product_Name#877, Price_After_Discount#875 AS Current_Price#848]\n",
      "      +- Filter (scrape_date#867 > cast(1970-01-01 as date))\n",
      "         +- SubqueryAlias products_silver\n",
      "            +- SubqueryAlias spark_catalog.ecom_products_data_pipeline.products_silver\n",
      "               +- Relation spark_catalog.ecom_products_data_pipeline.products_silver[Title#862,Number_of_Reviews#863,Image_URL#864,Category#865,TIMESTAMP#866,scrape_date#867,5_Star_Percentage#868,4_Star_Percentage#869,3_Star_Percentage#870,2_Star_Percentage#871,1_Star_Percentage#872,Bought_Last_Month#873,Rating#874,Price_After_Discount#875,MRP#876,Product_Name#877] parquet\n",
      "\n",
      "== Optimized Logical Plan ==\n",
      "Project [Product_Name#877, MRP#876, Current_Price#848, Discount_Amount#849, (cast(Discount_Amount#849 as double) / cast(MRP#876 as double)) AS Discount_Percentage#850, Bought_Last_Month#873 AS Last_Month_Sales#851, Number_of_Reviews#863 AS Total_Reviews#852, Rating#874 AS Avg_Rating#853, 5_Star_Percentage#868 AS Five_Star_Percentage#854, 4_Star_Percentage#869 AS Four_Star_Percentage#855, 3_Star_Percentage#870 AS Three_Star_Percentage#856, 2_Star_Percentage#871 AS Two_Star_Percentage#857, 1_Star_Percentage#872 AS One_Star_Percentage#858, category#865 AS Product_Category#859, Image_URL#864 AS Image#860, scrape_date#867 AS Scrape_Date#861]\n",
      "+- Project [Number_of_Reviews#863, Image_URL#864, Category#865, scrape_date#867, 5_Star_Percentage#868, 4_Star_Percentage#869, 3_Star_Percentage#870, 2_Star_Percentage#871, 1_Star_Percentage#872, Bought_Last_Month#873, Rating#874, MRP#876, Product_Name#877, Price_After_Discount#875 AS Current_Price#848, (MRP#876 - Price_After_Discount#875) AS Discount_Amount#849]\n",
      "   +- Filter (isnotnull(scrape_date#867) AND (scrape_date#867 > 1970-01-01))\n",
      "      +- Relation spark_catalog.ecom_products_data_pipeline.products_silver[Title#862,Number_of_Reviews#863,Image_URL#864,Category#865,TIMESTAMP#866,scrape_date#867,5_Star_Percentage#868,4_Star_Percentage#869,3_Star_Percentage#870,2_Star_Percentage#871,1_Star_Percentage#872,Bought_Last_Month#873,Rating#874,Price_After_Discount#875,MRP#876,Product_Name#877] parquet\n",
      "\n",
      "== Physical Plan ==\n",
      "*(1) Project [Product_Name#877, MRP#876, Current_Price#848, Discount_Amount#849, (cast(Discount_Amount#849 as double) / cast(MRP#876 as double)) AS Discount_Percentage#850, Bought_Last_Month#873 AS Last_Month_Sales#851, Number_of_Reviews#863 AS Total_Reviews#852, Rating#874 AS Avg_Rating#853, 5_Star_Percentage#868 AS Five_Star_Percentage#854, 4_Star_Percentage#869 AS Four_Star_Percentage#855, 3_Star_Percentage#870 AS Three_Star_Percentage#856, 2_Star_Percentage#871 AS Two_Star_Percentage#857, 1_Star_Percentage#872 AS One_Star_Percentage#858, category#865 AS Product_Category#859, Image_URL#864 AS Image#860, scrape_date#867 AS Scrape_Date#861]\n",
      "+- *(1) Project [Number_of_Reviews#863, Image_URL#864, Category#865, scrape_date#867, 5_Star_Percentage#868, 4_Star_Percentage#869, 3_Star_Percentage#870, 2_Star_Percentage#871, 1_Star_Percentage#872, Bought_Last_Month#873, Rating#874, MRP#876, Product_Name#877, Price_After_Discount#875 AS Current_Price#848, (MRP#876 - Price_After_Discount#875) AS Discount_Amount#849]\n",
      "   +- *(1) ColumnarToRow\n",
      "      +- FileScan parquet spark_catalog.ecom_products_data_pipeline.products_silver[Number_of_Reviews#863,Image_URL#864,Category#865,5_Star_Percentage#868,4_Star_Percentage#869,3_Star_Percentage#870,2_Star_Percentage#871,1_Star_Percentage#872,Bought_Last_Month#873,Rating#874,Price_After_Discount#875,MRP#876,Product_Name#877,scrape_date#867] Batched: true, DataFilters: [], Format: Parquet, Location: PreparedDeltaFileIndex(1 paths)[file:/c:/DE_PROJECTS/Ecom_Products_Data_analytics/data_lake/silve..., PartitionFilters: [isnotnull(scrape_date#867), (scrape_date#867 > 1970-01-01)], PushedFilters: [], ReadSchema: struct<Number_of_Reviews:int,Image_URL:string,Category:string,5_Star_Percentage:float,4_Star_Perc...\n",
      "\n"
     ]
    }
   ],
   "source": [
    "# Load the new unprocessed data from silver layer\n",
    "\n",
    "last_processed_timestamp_file = \"last_processed_timestamp_gold.txt\"\n",
    "try:\n",
    "    with open(last_processed_timestamp_file, 'r') as f:\n",
    "        last_processed_timestamp = f.read().strip()\n",
    "    print(f\"Previous high-watermark loaded: {last_processed_timestamp}\")\n",
    "except FileNotFoundError:\n",
    "    # Set a very old timestamp for the first run\n",
    "    last_processed_timestamp = \"1970-01-01\"\n",
    "    print(f\"No previous high-watermark found. Initializing to: {last_processed_timestamp}\")\n",
    "\n",
    "# Reads the silver data from the Delta Lake\n",
    "silver_df = spark.sql(f\"\"\"\n",
    "                      SELECT \n",
    "                      Product_Name, MRP, Price_After_Discount AS Current_Price, (MRP - Current_Price) AS Discount_Amount, (Discount_Amount / MRP) AS Discount_Percentage,\n",
    "                      Bought_Last_Month AS Last_Month_Sales, Number_of_Reviews AS Total_Reviews, Rating AS Avg_Rating,\n",
    "                      5_Star_Percentage AS Five_Star_Percentage, 4_Star_Percentage AS Four_Star_Percentage,\n",
    "                      3_Star_Percentage AS Three_Star_Percentage, 2_Star_Percentage AS Two_Star_Percentage,\n",
    "                      1_Star_Percentage AS One_Star_Percentage, category AS Product_Category, Image_URL AS Image,\n",
    "                      scrape_date AS Scrape_Date\n",
    "                      FROM ecom_products_data_pipeline.products_silver AS products_silver\n",
    "                      WHERE scrape_date > DATE('{last_processed_timestamp}')\n",
    "                      \"\"\")\n",
    "\n",
    "# Show the first 5 rows of the DataFrame\n",
    "silver_df.show(5)\n",
    "silver_df.explain(True)"
   ]
  },
  {
   "cell_type": "code",
   "execution_count": 8,
   "id": "19e7c86b",
   "metadata": {},
   "outputs": [
    {
     "name": "stdout",
     "output_type": "stream",
     "text": [
      "+-----------------------+------------------------------+--------------+---------------------+------------------------+-------------------------------+--------------------------+---------------------------------+------------------------------+-------------------------------------+---------------------------+----------------------------------+------------------------+-------------------------------+---------------------+----------------------------+-------------------------------+--------------------------------------+-------------------------------+--------------------------------------+--------------------------------+---------------------------------------+------------------------------+-------------------------------------+------------------------------+-------------------------------------+---------------------------+----------------------------------+----------------+-----------------------+----------------------+-----------------------------+\n",
      "|Product_Name_null_count|Product_Name_string_null_count|MRP_null_count|MRP_string_null_count|Current_Price_null_count|Current_Price_string_null_count|Discount_Amount_null_count|Discount_Amount_string_null_count|Discount_Percentage_null_count|Discount_Percentage_string_null_count|Last_Month_Sales_null_count|Last_Month_Sales_string_null_count|Total_Reviews_null_count|Total_Reviews_string_null_count|Avg_Rating_null_count|Avg_Rating_string_null_count|Five_Star_Percentage_null_count|Five_Star_Percentage_string_null_count|Four_Star_Percentage_null_count|Four_Star_Percentage_string_null_count|Three_Star_Percentage_null_count|Three_Star_Percentage_string_null_count|Two_Star_Percentage_null_count|Two_Star_Percentage_string_null_count|One_Star_Percentage_null_count|One_Star_Percentage_string_null_count|Product_Category_null_count|Product_Category_string_null_count|Image_null_count|Image_string_null_count|Scrape_Date_null_count|Scrape_Date_string_null_count|\n",
      "+-----------------------+------------------------------+--------------+---------------------+------------------------+-------------------------------+--------------------------+---------------------------------+------------------------------+-------------------------------------+---------------------------+----------------------------------+------------------------+-------------------------------+---------------------+----------------------------+-------------------------------+--------------------------------------+-------------------------------+--------------------------------------+--------------------------------+---------------------------------------+------------------------------+-------------------------------------+------------------------------+-------------------------------------+---------------------------+----------------------------------+----------------+-----------------------+----------------------+-----------------------------+\n",
      "|0                      |0                             |0             |0                    |0                       |0                              |0                         |0                                |0                             |0                                    |0                          |0                                 |0                       |0                              |0                    |0                           |34                             |0                                     |34                             |0                                     |34                              |0                                      |34                            |0                                    |34                            |0                                    |0                          |0                                 |0               |0                      |0                     |0                            |\n",
      "+-----------------------+------------------------------+--------------+---------------------+------------------------+-------------------------------+--------------------------+---------------------------------+------------------------------+-------------------------------------+---------------------------+----------------------------------+------------------------+-------------------------------+---------------------+----------------------------+-------------------------------+--------------------------------------+-------------------------------+--------------------------------------+--------------------------------+---------------------------------------+------------------------------+-------------------------------------+------------------------------+-------------------------------------+---------------------------+----------------------------------+----------------+-----------------------+----------------------+-----------------------------+\n",
      "\n"
     ]
    }
   ],
   "source": [
    "# Function to get null and empty string counts for each column\n",
    "\n",
    "from pyspark.sql.functions import col, trim, when, sum as _sum\n",
    "\n",
    "def get_null_empty_counts(df):\n",
    "    exprs = []\n",
    "    for c in df.columns:\n",
    "        exprs.append(_sum(when(col(c).isNull(), 1).otherwise(0)).alias(f\"{c}_null_count\"))\n",
    "        exprs.append(_sum(when(col(c) == \"null\", 1).otherwise(0)).alias(f\"{c}_string_null_count\"))\n",
    "\n",
    "    result_df = df.agg(*exprs)\n",
    "    result_df.show(truncate=False)\n",
    "\n",
    "get_null_empty_counts(silver_df)"
   ]
  },
  {
   "cell_type": "code",
   "execution_count": 7,
   "id": "0126938d",
   "metadata": {},
   "outputs": [
    {
     "name": "stdout",
     "output_type": "stream",
     "text": [
      "root\n",
      " |-- Product_Name: string (nullable = true)\n",
      " |-- MRP: float (nullable = true)\n",
      " |-- Current_Price: float (nullable = true)\n",
      " |-- Discount_Amount: float (nullable = true)\n",
      " |-- Discount_Percentage: double (nullable = true)\n",
      " |-- Last_Month_Sales: integer (nullable = true)\n",
      " |-- Total_Reviews: integer (nullable = true)\n",
      " |-- Avg_Rating: double (nullable = true)\n",
      " |-- Five_Star_Percentage: float (nullable = true)\n",
      " |-- Four_Star_Percentage: float (nullable = true)\n",
      " |-- Three_Star_Percentage: float (nullable = true)\n",
      " |-- Two_Star_Percentage: float (nullable = true)\n",
      " |-- One_Star_Percentage: float (nullable = true)\n",
      " |-- Product_Category: string (nullable = true)\n",
      " |-- Image: string (nullable = true)\n",
      " |-- Scrape_Date: date (nullable = true)\n",
      "\n"
     ]
    }
   ],
   "source": [
    "silver_df.printSchema()"
   ]
  },
  {
   "cell_type": "code",
   "execution_count": 9,
   "id": "f00aa9fc",
   "metadata": {},
   "outputs": [
    {
     "name": "stdout",
     "output_type": "stream",
     "text": [
      "High-watermark updated to: 2025-07-19\n"
     ]
    }
   ],
   "source": [
    "# One-time creation of base directories\n",
    "os.makedirs(\"data_lake/gold/dashboard_mart\", exist_ok=True)\n",
    "\n",
    "from pyspark.sql.functions import col, lit, max as spark_max\n",
    "import datetime # For default high-watermark and example update\n",
    "\n",
    "# Write the cleaned DataFrame to Delta Lake in the silver layer\n",
    "silver_df.write.format(\"delta\").mode(\"append\").partitionBy(\"scrape_date\").save(\"data_lake/gold/dashboard_mart/\")\n",
    "\n",
    "new_max_date_obj = silver_df.agg(spark_max(\"scrape_date\")).collect()[0][0] # This is a datetime.date object or None\n",
    "\n",
    "new_max_date_str = None # Initialize a string variable\n",
    "\n",
    "if new_max_date_obj is None:\n",
    "    # If no data was processed, use today's date as a string\n",
    "    new_max_date_str = datetime.date.today().strftime('%Y-%m-%d')\n",
    "else:\n",
    "    # If data was processed, convert the datetime.date object to a string\n",
    "    new_max_date_str = new_max_date_obj.strftime('%Y-%m-%d')\n",
    "\n",
    "# Persist the new high-watermark string\n",
    "with open(last_processed_timestamp_file, 'w') as f:\n",
    "    f.write(new_max_date_str) # <--- Always a string now\n",
    "print(f\"High-watermark updated to: {new_max_date_str}\")"
   ]
  },
  {
   "cell_type": "code",
   "execution_count": 10,
   "id": "19665d70",
   "metadata": {},
   "outputs": [
    {
     "data": {
      "text/plain": [
       "DataFrame[]"
      ]
     },
     "execution_count": 10,
     "metadata": {},
     "output_type": "execute_result"
    }
   ],
   "source": [
    "# Path to gold mart\n",
    "gold_path = os.path.abspath(\"data_lake/gold/dashboard_mart\").replace(\"\\\\\", \"/\")\n",
    "\n",
    "# Create the gold table if it does not exist\n",
    "\n",
    "spark.sql(f\"\"\"\n",
    "    CREATE TABLE IF NOT EXISTS Ecom_Products_Data_Pipeline.products_gold\n",
    "    USING DELTA\n",
    "    LOCATION '{gold_path}'\n",
    "\"\"\")\n",
    "\n",
    "spark.sql(\"\"\"\n",
    "    CREATE OR REPLACE VIEW Ecom_Products_Data_Pipeline.products_gold_latest AS\n",
    "    SELECT *\n",
    "    FROM Ecom_Products_Data_Pipeline.products_gold\n",
    "    WHERE scrape_date = (\n",
    "        SELECT MAX(scrape_date)\n",
    "        FROM Ecom_Products_Data_Pipeline.products_gold\n",
    "    )\n",
    "\"\"\")"
   ]
  },
  {
   "cell_type": "code",
   "execution_count": 13,
   "id": "6fc0a62b",
   "metadata": {},
   "outputs": [
    {
     "name": "stdout",
     "output_type": "stream",
     "text": [
      "+---------------------------+--------------------+-----------+\n",
      "|namespace                  |tableName           |isTemporary|\n",
      "+---------------------------+--------------------+-----------+\n",
      "|ecom_products_data_pipeline|products_gold       |false      |\n",
      "|ecom_products_data_pipeline|products_gold_latest|false      |\n",
      "|ecom_products_data_pipeline|products_silver     |false      |\n",
      "+---------------------------+--------------------+-----------+\n",
      "\n"
     ]
    }
   ],
   "source": [
    "spark.sql(\"SHOW TABLES IN Ecom_Products_Data_Pipeline\").show(truncate=False)"
   ]
  },
  {
   "cell_type": "code",
   "execution_count": 14,
   "id": "d358e995",
   "metadata": {},
   "outputs": [
    {
     "name": "stdout",
     "output_type": "stream",
     "text": [
      "+--------------------+------+-------------+---------------+-------------------+----------------+-------------+----------+--------------------+--------------------+---------------------+-------------------+-------------------+----------------+--------------------+-----------+\n",
      "|        Product_Name|   MRP|Current_Price|Discount_Amount|Discount_Percentage|Last_Month_Sales|Total_Reviews|Avg_Rating|Five_Star_Percentage|Four_Star_Percentage|Three_Star_Percentage|Two_Star_Percentage|One_Star_Percentage|Product_Category|               Image|Scrape_Date|\n",
      "+--------------------+------+-------------+---------------+-------------------+----------------+-------------+----------+--------------------+--------------------+---------------------+-------------------+-------------------+----------------+--------------------+-----------+\n",
      "|soundcore by Anke...|9598.0|       4498.0|         5100.0| 0.5313607001458637|            2000|        32476|       4.3|                61.0|                23.0|                  7.0|                4.0|                5.0|      Headphones|https://m.media-a...| 2025-07-19|\n",
      "|Boult Newly Launc...|5999.0|       1999.0|         4000.0| 0.6667777962993833|            1000|           44|       4.1|                null|                null|                 null|               null|               null|      Headphones|https://m.media-a...| 2025-07-19|\n",
      "|boAt Rockerz 480 ...|3790.0|       1799.0|         1991.0|   0.52532981530343|            4000|         1612|       4.1|                null|                null|                 null|               null|               null|      Headphones|https://m.media-a...| 2025-07-19|\n",
      "|boAt Rockerz 425 ...|2999.0|       1499.0|         1500.0| 0.5001667222407469|            1000|         4338|       3.6|                null|                null|                 null|               null|               null|      Headphones|https://m.media-a...| 2025-07-19|\n",
      "|boAt Rockerz 450,...|3990.0|       1499.0|         2491.0| 0.6243107769423559|            5000|       118570|       4.0|                null|                null|                 null|               null|               null|      Headphones|https://m.media-a...| 2025-07-19|\n",
      "|Boult Newly Launc...|5499.0|       1499.0|         4000.0| 0.7274049827241317|             500|          238|       4.1|                null|                null|                 null|               null|               null|      Headphones|https://github.co...| 2025-07-19|\n",
      "|HAMMER Vibe ENC B...|4999.0|       1499.0|         3500.0| 0.7001400280056012|             400|           55|       4.0|                null|                null|                 null|               null|               null|      Headphones|https://github.co...| 2025-07-19|\n",
      "|soundcore H30i Wi...|4499.0|       1899.0|         2600.0|  0.577906201378084|             400|         6767|       4.1|                null|                null|                 null|               null|               null|      Headphones|https://github.co...| 2025-07-19|\n",
      "|Honeywell New Lau...|1999.0|       1399.0|          600.0| 0.3001500750375188|             100|           33|       4.6|                null|                null|                 null|               null|               null|      Headphones|https://github.co...| 2025-07-19|\n",
      "|AILIHEN Kids Wire...|2625.0|       1611.0|         1014.0| 0.3862857142857143|               0|            3|       4.1|                null|                null|                 null|               null|               null|      Headphones|https://github.co...| 2025-07-19|\n",
      "|Boat BassHeads 10...| 999.0|        399.0|          600.0| 0.6006006006006006|            5000|       422091|       4.1|                null|                null|                 null|               null|               null|      Headphones|https://m.media-a...| 2025-07-19|\n",
      "|Sony MDR-ZX110A O...|1390.0|        847.0|          543.0| 0.3906474820143885|            3000|        67121|       4.0|                null|                null|                 null|               null|               null|      Headphones|https://m.media-a...| 2025-07-19|\n",
      "|JBL Tune 510BT, O...|4449.0|       2799.0|         1650.0|0.37086985839514497|            3000|        20584|       4.1|                null|                null|                 null|               null|               null|      Headphones|https://m.media-a...| 2025-07-19|\n",
      "|boAt New Launch R...|8990.0|       2968.0|         6022.0| 0.6698553948832036|            4000|          882|       4.3|                null|                null|                 null|               null|               null|      Headphones|https://m.media-a...| 2025-07-19|\n",
      "|boAt Rockerz 450,...|3990.0|       1599.0|         2391.0| 0.5992481203007519|            3000|       118570|       4.0|                null|                null|                 null|               null|               null|      Headphones|https://m.media-a...| 2025-07-19|\n",
      "|Boult Q Over Ear ...|5999.0|       1999.0|         4000.0| 0.6667777962993833|            5000|         3537|       4.1|                null|                null|                 null|               null|               null|      Headphones|https://m.media-a...| 2025-07-19|\n",
      "|Samsung Galaxy Bu...|9999.0|       4999.0|         5000.0|    0.5000500050005|               0|           45|       3.8|                null|                null|                 null|               null|               null|      Headphones|https://m.media-a...| 2025-07-19|\n",
      "|ZEBRONICS THUNDER...|1199.0|        799.0|          400.0| 0.3336113427856547|            3000|        25128|       3.7|                null|                null|                 null|               null|               null|      Headphones|https://m.media-a...| 2025-07-19|\n",
      "|Boult Audio Z40 T...|4999.0|        999.0|         4000.0| 0.8001600320064013|               0|            0|       3.8|                 0.0|                 0.0|                  0.0|                0.0|                0.0|      Headphones|https://github.co...| 2025-07-19|\n",
      "|boAt Rockerz 113 ...|2490.0|        899.0|         1591.0| 0.6389558232931727|            5000|          187|       4.1|                null|                null|                 null|               null|               null|      Headphones|https://m.media-a...| 2025-07-19|\n",
      "+--------------------+------+-------------+---------------+-------------------+----------------+-------------+----------+--------------------+--------------------+---------------------+-------------------+-------------------+----------------+--------------------+-----------+\n",
      "only showing top 20 rows\n",
      "\n"
     ]
    }
   ],
   "source": [
    "spark.sql(\"SELECT * FROM ecom_products_data_pipeline.products_gold\").show()"
   ]
  },
  {
   "cell_type": "code",
   "execution_count": 15,
   "id": "8d60d2fe",
   "metadata": {},
   "outputs": [
    {
     "name": "stdout",
     "output_type": "stream",
     "text": [
      "+--------------------+------+-------------+---------------+-------------------+----------------+-------------+----------+--------------------+--------------------+---------------------+-------------------+-------------------+----------------+--------------------+-----------+\n",
      "|        Product_Name|   MRP|Current_Price|Discount_Amount|Discount_Percentage|Last_Month_Sales|Total_Reviews|Avg_Rating|Five_Star_Percentage|Four_Star_Percentage|Three_Star_Percentage|Two_Star_Percentage|One_Star_Percentage|Product_Category|               Image|Scrape_Date|\n",
      "+--------------------+------+-------------+---------------+-------------------+----------------+-------------+----------+--------------------+--------------------+---------------------+-------------------+-------------------+----------------+--------------------+-----------+\n",
      "|soundcore by Anke...|9598.0|       4498.0|         5100.0| 0.5313607001458637|            2000|        32476|       4.3|                61.0|                23.0|                  7.0|                4.0|                5.0|      Headphones|https://m.media-a...| 2025-07-19|\n",
      "|Boult Newly Launc...|5999.0|       1999.0|         4000.0| 0.6667777962993833|            1000|           44|       4.1|                null|                null|                 null|               null|               null|      Headphones|https://m.media-a...| 2025-07-19|\n",
      "|boAt Rockerz 480 ...|3790.0|       1799.0|         1991.0|   0.52532981530343|            4000|         1612|       4.1|                null|                null|                 null|               null|               null|      Headphones|https://m.media-a...| 2025-07-19|\n",
      "|boAt Rockerz 425 ...|2999.0|       1499.0|         1500.0| 0.5001667222407469|            1000|         4338|       3.6|                null|                null|                 null|               null|               null|      Headphones|https://m.media-a...| 2025-07-19|\n",
      "|boAt Rockerz 450,...|3990.0|       1499.0|         2491.0| 0.6243107769423559|            5000|       118570|       4.0|                null|                null|                 null|               null|               null|      Headphones|https://m.media-a...| 2025-07-19|\n",
      "|Boult Newly Launc...|5499.0|       1499.0|         4000.0| 0.7274049827241317|             500|          238|       4.1|                null|                null|                 null|               null|               null|      Headphones|https://github.co...| 2025-07-19|\n",
      "|HAMMER Vibe ENC B...|4999.0|       1499.0|         3500.0| 0.7001400280056012|             400|           55|       4.0|                null|                null|                 null|               null|               null|      Headphones|https://github.co...| 2025-07-19|\n",
      "|soundcore H30i Wi...|4499.0|       1899.0|         2600.0|  0.577906201378084|             400|         6767|       4.1|                null|                null|                 null|               null|               null|      Headphones|https://github.co...| 2025-07-19|\n",
      "|Honeywell New Lau...|1999.0|       1399.0|          600.0| 0.3001500750375188|             100|           33|       4.6|                null|                null|                 null|               null|               null|      Headphones|https://github.co...| 2025-07-19|\n",
      "|AILIHEN Kids Wire...|2625.0|       1611.0|         1014.0| 0.3862857142857143|               0|            3|       4.1|                null|                null|                 null|               null|               null|      Headphones|https://github.co...| 2025-07-19|\n",
      "|Boat BassHeads 10...| 999.0|        399.0|          600.0| 0.6006006006006006|            5000|       422091|       4.1|                null|                null|                 null|               null|               null|      Headphones|https://m.media-a...| 2025-07-19|\n",
      "|Sony MDR-ZX110A O...|1390.0|        847.0|          543.0| 0.3906474820143885|            3000|        67121|       4.0|                null|                null|                 null|               null|               null|      Headphones|https://m.media-a...| 2025-07-19|\n",
      "|JBL Tune 510BT, O...|4449.0|       2799.0|         1650.0|0.37086985839514497|            3000|        20584|       4.1|                null|                null|                 null|               null|               null|      Headphones|https://m.media-a...| 2025-07-19|\n",
      "|boAt New Launch R...|8990.0|       2968.0|         6022.0| 0.6698553948832036|            4000|          882|       4.3|                null|                null|                 null|               null|               null|      Headphones|https://m.media-a...| 2025-07-19|\n",
      "|boAt Rockerz 450,...|3990.0|       1599.0|         2391.0| 0.5992481203007519|            3000|       118570|       4.0|                null|                null|                 null|               null|               null|      Headphones|https://m.media-a...| 2025-07-19|\n",
      "|Boult Q Over Ear ...|5999.0|       1999.0|         4000.0| 0.6667777962993833|            5000|         3537|       4.1|                null|                null|                 null|               null|               null|      Headphones|https://m.media-a...| 2025-07-19|\n",
      "|Samsung Galaxy Bu...|9999.0|       4999.0|         5000.0|    0.5000500050005|               0|           45|       3.8|                null|                null|                 null|               null|               null|      Headphones|https://m.media-a...| 2025-07-19|\n",
      "|ZEBRONICS THUNDER...|1199.0|        799.0|          400.0| 0.3336113427856547|            3000|        25128|       3.7|                null|                null|                 null|               null|               null|      Headphones|https://m.media-a...| 2025-07-19|\n",
      "|Boult Audio Z40 T...|4999.0|        999.0|         4000.0| 0.8001600320064013|               0|            0|       3.8|                 0.0|                 0.0|                  0.0|                0.0|                0.0|      Headphones|https://github.co...| 2025-07-19|\n",
      "|boAt Rockerz 113 ...|2490.0|        899.0|         1591.0| 0.6389558232931727|            5000|          187|       4.1|                null|                null|                 null|               null|               null|      Headphones|https://m.media-a...| 2025-07-19|\n",
      "+--------------------+------+-------------+---------------+-------------------+----------------+-------------+----------+--------------------+--------------------+---------------------+-------------------+-------------------+----------------+--------------------+-----------+\n",
      "only showing top 20 rows\n",
      "\n"
     ]
    }
   ],
   "source": [
    "spark.sql(\"SELECT * FROM ecom_products_data_pipeline.products_gold_latest\").show()"
   ]
  },
  {
   "cell_type": "code",
   "execution_count": 16,
   "id": "2211787f",
   "metadata": {},
   "outputs": [],
   "source": [
    "spark.stop()"
   ]
  }
 ],
 "metadata": {
  "kernelspec": {
   "display_name": "env",
   "language": "python",
   "name": "python3"
  },
  "language_info": {
   "codemirror_mode": {
    "name": "ipython",
    "version": 3
   },
   "file_extension": ".py",
   "mimetype": "text/x-python",
   "name": "python",
   "nbconvert_exporter": "python",
   "pygments_lexer": "ipython3",
   "version": "3.10.0"
  }
 },
 "nbformat": 4,
 "nbformat_minor": 5
}
