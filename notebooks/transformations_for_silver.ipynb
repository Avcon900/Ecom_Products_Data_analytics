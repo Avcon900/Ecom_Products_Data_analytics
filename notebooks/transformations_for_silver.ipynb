{
 "cells": [
  {
   "cell_type": "code",
   "execution_count": 1,
   "id": "f47fd1f2",
   "metadata": {},
   "outputs": [],
   "source": [
    "import os\n",
    "os.environ[\"PYSPARK_PYTHON\"] = \"./env/Scripts/python.exe\"\n",
    "os.environ[\"PYSPARK_DRIVER_PYTHON\"] = \"./env/Scripts/python.exe\""
   ]
  },
  {
   "cell_type": "code",
   "execution_count": 2,
   "id": "f0cfa2df",
   "metadata": {},
   "outputs": [],
   "source": [
    "# Sets up a PySpark session with Delta Lake support\n",
    "import pyspark\n",
    "from delta import *\n",
    "\n",
    "builder = pyspark.sql.SparkSession.builder.appName(\"MyApp\") \\\n",
    "    .config(\"spark.sql.extensions\", \"io.delta.sql.DeltaSparkSessionExtension\") \\\n",
    "    .config(\"spark.sql.catalog.spark_catalog\", \"org.apache.spark.sql.delta.catalog.DeltaCatalog\")\n",
    "\n",
    "spark = configure_spark_with_delta_pip(builder).getOrCreate()"
   ]
  },
  {
   "cell_type": "code",
   "execution_count": 3,
   "id": "68e654ac",
   "metadata": {},
   "outputs": [
    {
     "name": "stdout",
     "output_type": "stream",
     "text": [
      "No previous high-watermark found. Initializing to: 1970-01-01\n"
     ]
    }
   ],
   "source": [
    "# Load the new unprocessed data in bronze layer\n",
    "\n",
    "last_processed_timestamp_file = \"last_processed_timestamp.txt\"\n",
    "try:\n",
    "    with open(last_processed_timestamp_file, 'r') as f:\n",
    "        last_processed_timestamp = f.read().strip()\n",
    "    print(f\"Previous high-watermark loaded: {last_processed_timestamp}\")\n",
    "except FileNotFoundError:\n",
    "    # Set a very old timestamp for the first run\n",
    "    last_processed_timestamp = \"1970-01-01\"\n",
    "    print(f\"No previous high-watermark found. Initializing to: {last_processed_timestamp}\")\n",
    "\n",
    "# Reads the bronze data from the Delta Lake\n",
    "bronze_df = spark.read.format(\"delta\").load(\"data_lake/bronze/products\")\\\n",
    "    .filter(f\"scrape_date > '{last_processed_timestamp}'\")"
   ]
  },
  {
   "cell_type": "code",
   "execution_count": 4,
   "id": "5443e5af",
   "metadata": {},
   "outputs": [
    {
     "name": "stdout",
     "output_type": "stream",
     "text": [
      "root\n",
      " |-- Title: string (nullable = true)\n",
      " |-- Number_of_Reviews: string (nullable = true)\n",
      " |-- Rating: string (nullable = true)\n",
      " |-- Bought_Last_Month: string (nullable = true)\n",
      " |-- Price_After_Discount: string (nullable = true)\n",
      " |-- MRP: string (nullable = true)\n",
      " |-- Image_URL: string (nullable = true)\n",
      " |-- Star_Rating_Percentage: string (nullable = true)\n",
      " |-- Category: string (nullable = true)\n",
      " |-- Product_ID: string (nullable = true)\n",
      " |-- TIMESTAMP: string (nullable = true)\n",
      " |-- scrape_date: date (nullable = true)\n",
      "\n",
      "+--------------------+-----------------+--------------------+--------------------+--------------------+------+--------------------+----------------------+----------+----------+-------------------+-----------+\n",
      "|               Title|Number_of_Reviews|              Rating|   Bought_Last_Month|Price_After_Discount|   MRP|           Image_URL|Star_Rating_Percentage|  Category|Product_ID|          TIMESTAMP|scrape_date|\n",
      "+--------------------+-----------------+--------------------+--------------------+--------------------+------+--------------------+----------------------+----------+----------+-------------------+-----------+\n",
      "|soundcore by Anke...|           32,476|4.3 out of 5 star...|2K+ bought in pas...|               4,498|₹9,598|https://m.media-a...|  {5: '61%', 4: '23...|Headphones|         1|2025-07-19 03:47:20| 2025-07-19|\n",
      "|Boult Newly Launc...|               44|4.1 out of 5 star...|1K+ bought in pas...|               1,999|₹5,999|https://m.media-a...|  {5: 'null', 4: 'n...|Headphones|         2|2025-07-19 03:47:20| 2025-07-19|\n",
      "|boAt Rockerz 480 ...|            1,612|4.1 out of 5 star...|4K+ bought in pas...|               1,799|₹3,790|https://m.media-a...|  {5: 'null', 4: 'n...|Headphones|         3|2025-07-19 03:47:20| 2025-07-19|\n",
      "|boAt Rockerz 425 ...|            4,338|3.6 out of 5 star...|1K+ bought in pas...|               1,499|₹2,999|https://m.media-a...|  {5: 'null', 4: 'n...|Headphones|         4|2025-07-19 03:47:20| 2025-07-19|\n",
      "|boAt Rockerz 450,...|          118,570|4.0 out of 5 star...|5K+ bought in pas...|               1,499|₹3,990|https://m.media-a...|  {5: 'null', 4: 'n...|Headphones|         5|2025-07-19 03:47:20| 2025-07-19|\n",
      "|Boult Newly Launc...|              238|4.1 out of 5 star...|500+ bought in pa...|               1,499|₹5,499|                null|  {5: 'null', 4: 'n...|Headphones|         6|2025-07-19 03:47:20| 2025-07-19|\n",
      "|HAMMER Vibe ENC B...|               55|4.0 out of 5 star...|400+ bought in pa...|               1,499|₹4,999|                null|  {5: 'null', 4: 'n...|Headphones|         7|2025-07-19 03:47:20| 2025-07-19|\n",
      "|soundcore H30i Wi...|            6,767|4.1 out of 5 star...|400+ bought in pa...|               1,899|₹4,499|                null|  {5: 'null', 4: 'n...|Headphones|         8|2025-07-19 03:47:20| 2025-07-19|\n",
      "|Honeywell New Lau...|               33|4.6 out of 5 star...|100+ bought in pa...|               1,399|₹1,999|                null|  {5: 'null', 4: 'n...|Headphones|         9|2025-07-19 03:47:20| 2025-07-19|\n",
      "|AILIHEN Kids Wire...|                3|4.1 out of 5 star...|                null|               1,611|₹2,625|                null|  {5: 'null', 4: 'n...|Headphones|        10|2025-07-19 03:47:20| 2025-07-19|\n",
      "|Boat BassHeads 10...|          422,091|4.1 out of 5 star...|5K+ bought in pas...|                 399|  ₹999|https://m.media-a...|  {5: 'null', 4: 'n...|Headphones|        11|2025-07-19 03:47:20| 2025-07-19|\n",
      "|Sony MDR-ZX110A O...|           67,121|4.0 out of 5 star...|3K+ bought in pas...|                 847|₹1,390|https://m.media-a...|  {5: 'null', 4: 'n...|Headphones|        12|2025-07-19 03:47:20| 2025-07-19|\n",
      "|JBL Tune 510BT, O...|           20,584|4.1 out of 5 star...|3K+ bought in pas...|               2,799|₹4,449|https://m.media-a...|  {5: 'null', 4: 'n...|Headphones|        13|2025-07-19 03:47:20| 2025-07-19|\n",
      "|boAt New Launch R...|              882|4.3 out of 5 star...|4K+ bought in pas...|               2,968|₹8,990|https://m.media-a...|  {5: 'null', 4: 'n...|Headphones|        14|2025-07-19 03:47:20| 2025-07-19|\n",
      "|boAt Rockerz 450,...|          118,570|4.0 out of 5 star...|3K+ bought in pas...|               1,599|₹3,990|https://m.media-a...|  {5: 'null', 4: 'n...|Headphones|        15|2025-07-19 03:47:20| 2025-07-19|\n",
      "|Boult Q Over Ear ...|            3,537|4.1 out of 5 star...|5K+ bought in pas...|               1,999|₹5,999|https://m.media-a...|  {5: 'null', 4: 'n...|Headphones|        16|2025-07-19 03:47:20| 2025-07-19|\n",
      "|Samsung Galaxy Bu...|               45|3.8 out of 5 star...|                null|               4,999|₹9,999|https://m.media-a...|  {5: 'null', 4: 'n...|Headphones|        17|2025-07-19 03:47:20| 2025-07-19|\n",
      "|ZEBRONICS THUNDER...|           25,128|3.7 out of 5 star...|3K+ bought in pas...|                 799|₹1,199|https://m.media-a...|  {5: 'null', 4: 'n...|Headphones|        18|2025-07-19 03:47:20| 2025-07-19|\n",
      "|Boult Audio Z40 T...|             null|3.8 out of 5 star...|                null|                 999|₹4,999|                null|  {5: 'null', 4: 'n...|Headphones|        19|2025-07-19 03:47:20| 2025-07-19|\n",
      "|boAt Rockerz 113 ...|              187|4.1 out of 5 star...|5K+ bought in pas...|                 899|₹2,490|https://m.media-a...|  {5: 'null', 4: 'n...|Headphones|        20|2025-07-19 03:47:20| 2025-07-19|\n",
      "+--------------------+-----------------+--------------------+--------------------+--------------------+------+--------------------+----------------------+----------+----------+-------------------+-----------+\n",
      "only showing top 20 rows\n",
      "\n"
     ]
    }
   ],
   "source": [
    "# Check the schema of the bronze data\n",
    "bronze_df.printSchema()\n",
    "bronze_df.show()"
   ]
  },
  {
   "cell_type": "code",
   "execution_count": 5,
   "id": "80be3cf3",
   "metadata": {},
   "outputs": [],
   "source": [
    "# Script to parse the \"Star_Rating_Percentage\" column and extract star ratings\n",
    "# This assumes the column is a string representation of a dictionary, e.g., \"{'5': '20%', '4': '30%', '3': '25%', '2': '15%', '1': '10%'}\"\n",
    "\n",
    "from pyspark.sql.functions import col, udf\n",
    "from pyspark.sql.types import MapType, StringType\n",
    "import ast\n",
    "\n",
    "# Step 1: Define a UDF to parse the stringified dictionary\n",
    "def parse_dict(s):\n",
    "    try:\n",
    "        if s is not None:\n",
    "            d = ast.literal_eval(s)\n",
    "            return {str(k): v for k, v in d.items()}  # Ensure keys are strings\n",
    "        else:\n",
    "            return {}\n",
    "    except:\n",
    "        return {}\n",
    "\n",
    "# Step 2: Register the UDF\n",
    "parse_dict_udf = udf(parse_dict, MapType(StringType(), StringType()))\n",
    "\n",
    "# Step 3: Apply the UDF to transform the column into a MapType column\n",
    "bronze_df = bronze_df.withColumn(\"parsed_rating\", parse_dict_udf(col(\"Star_Rating_Percentage\")))\n",
    "\n",
    "# Step 4: Extract each key into a separate column\n",
    "bronze_df = bronze_df.withColumn(\"5_Star_Percentage\", col(\"parsed_rating\")[\"5\"]) \\\n",
    "                     .withColumn(\"4_Star_Percentage\", col(\"parsed_rating\")[\"4\"]) \\\n",
    "                     .withColumn(\"3_Star_Percentage\", col(\"parsed_rating\")[\"3\"]) \\\n",
    "                     .withColumn(\"2_Star_Percentage\", col(\"parsed_rating\")[\"2\"]) \\\n",
    "                     .withColumn(\"1_Star_Percentage\", col(\"parsed_rating\")[\"1\"])\n",
    "\n",
    "# Step 5: Drop the old columns (optional)\n",
    "bronze_df = bronze_df.drop(\"Star_Rating_Percentage\", \"parsed_rating\")"
   ]
  },
  {
   "cell_type": "code",
   "execution_count": 6,
   "id": "ce80e852",
   "metadata": {},
   "outputs": [
    {
     "name": "stdout",
     "output_type": "stream",
     "text": [
      "root\n",
      " |-- Title: string (nullable = true)\n",
      " |-- Number_of_Reviews: string (nullable = true)\n",
      " |-- Rating: string (nullable = true)\n",
      " |-- Bought_Last_Month: string (nullable = true)\n",
      " |-- Price_After_Discount: string (nullable = true)\n",
      " |-- MRP: string (nullable = true)\n",
      " |-- Image_URL: string (nullable = true)\n",
      " |-- Category: string (nullable = true)\n",
      " |-- Product_ID: string (nullable = true)\n",
      " |-- TIMESTAMP: string (nullable = true)\n",
      " |-- scrape_date: date (nullable = true)\n",
      " |-- 5_Star_Percentage: string (nullable = true)\n",
      " |-- 4_Star_Percentage: string (nullable = true)\n",
      " |-- 3_Star_Percentage: string (nullable = true)\n",
      " |-- 2_Star_Percentage: string (nullable = true)\n",
      " |-- 1_Star_Percentage: string (nullable = true)\n",
      "\n"
     ]
    }
   ],
   "source": [
    "# Verify the schema after transformation\n",
    "bronze_df.printSchema()"
   ]
  },
  {
   "cell_type": "code",
   "execution_count": 7,
   "id": "1f607339",
   "metadata": {},
   "outputs": [],
   "source": [
    "# Function to get null and empty string counts for each column\n",
    "\n",
    "from pyspark.sql.functions import col, trim, when, sum as _sum\n",
    "\n",
    "def get_null_empty_counts(df):\n",
    "    exprs = []\n",
    "    for c in df.columns:\n",
    "        exprs.append(_sum(when(col(c).isNull(), 1).otherwise(0)).alias(f\"{c}_null_count\"))\n",
    "        exprs.append(_sum(when(col(c) == \"null\", 1).otherwise(0)).alias(f\"{c}_string_null_count\"))\n",
    "\n",
    "    result_df = df.agg(*exprs)\n",
    "    result_df.show(truncate=False)"
   ]
  },
  {
   "cell_type": "code",
   "execution_count": 8,
   "id": "67a28511",
   "metadata": {},
   "outputs": [
    {
     "name": "stdout",
     "output_type": "stream",
     "text": [
      "+----------------+-----------------------+----------------------------+-----------------------------------+-----------------+------------------------+----------------------------+-----------------------------------+-------------------------------+--------------------------------------+--------------+---------------------+--------------------+---------------------------+-------------------+--------------------------+---------------------+----------------------------+--------------------+---------------------------+----------------------+-----------------------------+----------------------------+-----------------------------------+----------------------------+-----------------------------------+----------------------------+-----------------------------------+----------------------------+-----------------------------------+----------------------------+-----------------------------------+\n",
      "|Title_null_count|Title_string_null_count|Number_of_Reviews_null_count|Number_of_Reviews_string_null_count|Rating_null_count|Rating_string_null_count|Bought_Last_Month_null_count|Bought_Last_Month_string_null_count|Price_After_Discount_null_count|Price_After_Discount_string_null_count|MRP_null_count|MRP_string_null_count|Image_URL_null_count|Image_URL_string_null_count|Category_null_count|Category_string_null_count|Product_ID_null_count|Product_ID_string_null_count|TIMESTAMP_null_count|TIMESTAMP_string_null_count|scrape_date_null_count|scrape_date_string_null_count|5_Star_Percentage_null_count|5_Star_Percentage_string_null_count|4_Star_Percentage_null_count|4_Star_Percentage_string_null_count|3_Star_Percentage_null_count|3_Star_Percentage_string_null_count|2_Star_Percentage_null_count|2_Star_Percentage_string_null_count|1_Star_Percentage_null_count|1_Star_Percentage_string_null_count|\n",
      "+----------------+-----------------------+----------------------------+-----------------------------------+-----------------+------------------------+----------------------------+-----------------------------------+-------------------------------+--------------------------------------+--------------+---------------------+--------------------+---------------------------+-------------------+--------------------------+---------------------+----------------------------+--------------------+---------------------------+----------------------+-----------------------------+----------------------------+-----------------------------------+----------------------------+-----------------------------------+----------------------------+-----------------------------------+----------------------------+-----------------------------------+----------------------------+-----------------------------------+\n",
      "|0               |0                      |0                           |206                                |0                |130                     |0                           |928                                |0                              |47                                    |0             |78                   |0                   |278                        |0                  |0                         |0                    |0                           |0                   |0                          |0                     |0                            |0                           |167                                |0                           |167                                |0                           |167                                |0                           |167                                |0                           |167                                |\n",
      "+----------------+-----------------------+----------------------------+-----------------------------------+-----------------+------------------------+----------------------------+-----------------------------------+-------------------------------+--------------------------------------+--------------+---------------------+--------------------+---------------------------+-------------------+--------------------------+---------------------+----------------------------+--------------------+---------------------------+----------------------+-----------------------------+----------------------------+-----------------------------------+----------------------------+-----------------------------------+----------------------------+-----------------------------------+----------------------------+-----------------------------------+----------------------------+-----------------------------------+\n",
      "\n"
     ]
    }
   ],
   "source": [
    "# Check for null and empty string counts before transformation\n",
    "get_null_empty_counts(bronze_df)"
   ]
  },
  {
   "cell_type": "code",
   "execution_count": 9,
   "id": "fb48c72b",
   "metadata": {},
   "outputs": [],
   "source": [
    "# Function to standardize nulls in a DataFrame\n",
    "def standardize_nulls(df):\n",
    "     return df.select([\n",
    "        when(col(c) == \"null\", None).otherwise(col(c)).alias(c)\n",
    "        for c in df.columns\n",
    "    ])"
   ]
  },
  {
   "cell_type": "code",
   "execution_count": 10,
   "id": "edf3505b",
   "metadata": {},
   "outputs": [],
   "source": [
    "# Standardize nulls in the DataFrame\n",
    "bronze_df = standardize_nulls(bronze_df)"
   ]
  },
  {
   "cell_type": "code",
   "execution_count": 11,
   "id": "e9229fd7",
   "metadata": {},
   "outputs": [
    {
     "name": "stdout",
     "output_type": "stream",
     "text": [
      "+----------------+-----------------------+----------------------------+-----------------------------------+-----------------+------------------------+----------------------------+-----------------------------------+-------------------------------+--------------------------------------+--------------+---------------------+--------------------+---------------------------+-------------------+--------------------------+---------------------+----------------------------+--------------------+---------------------------+----------------------+-----------------------------+----------------------------+-----------------------------------+----------------------------+-----------------------------------+----------------------------+-----------------------------------+----------------------------+-----------------------------------+----------------------------+-----------------------------------+\n",
      "|Title_null_count|Title_string_null_count|Number_of_Reviews_null_count|Number_of_Reviews_string_null_count|Rating_null_count|Rating_string_null_count|Bought_Last_Month_null_count|Bought_Last_Month_string_null_count|Price_After_Discount_null_count|Price_After_Discount_string_null_count|MRP_null_count|MRP_string_null_count|Image_URL_null_count|Image_URL_string_null_count|Category_null_count|Category_string_null_count|Product_ID_null_count|Product_ID_string_null_count|TIMESTAMP_null_count|TIMESTAMP_string_null_count|scrape_date_null_count|scrape_date_string_null_count|5_Star_Percentage_null_count|5_Star_Percentage_string_null_count|4_Star_Percentage_null_count|4_Star_Percentage_string_null_count|3_Star_Percentage_null_count|3_Star_Percentage_string_null_count|2_Star_Percentage_null_count|2_Star_Percentage_string_null_count|1_Star_Percentage_null_count|1_Star_Percentage_string_null_count|\n",
      "+----------------+-----------------------+----------------------------+-----------------------------------+-----------------+------------------------+----------------------------+-----------------------------------+-------------------------------+--------------------------------------+--------------+---------------------+--------------------+---------------------------+-------------------+--------------------------+---------------------+----------------------------+--------------------+---------------------------+----------------------+-----------------------------+----------------------------+-----------------------------------+----------------------------+-----------------------------------+----------------------------+-----------------------------------+----------------------------+-----------------------------------+----------------------------+-----------------------------------+\n",
      "|0               |0                      |206                         |0                                  |130              |0                       |928                         |0                                  |47                             |0                                     |78            |0                    |278                 |0                          |0                  |0                         |0                    |0                           |0                   |0                          |0                     |0                            |167                         |0                                  |167                         |0                                  |167                         |0                                  |167                         |0                                  |167                         |0                                  |\n",
      "+----------------+-----------------------+----------------------------+-----------------------------------+-----------------+------------------------+----------------------------+-----------------------------------+-------------------------------+--------------------------------------+--------------+---------------------+--------------------+---------------------------+-------------------+--------------------------+---------------------+----------------------------+--------------------+---------------------------+----------------------+-----------------------------+----------------------------+-----------------------------------+----------------------------+-----------------------------------+----------------------------+-----------------------------------+----------------------------+-----------------------------------+----------------------------+-----------------------------------+\n",
      "\n"
     ]
    }
   ],
   "source": [
    "get_null_empty_counts(bronze_df)"
   ]
  },
  {
   "cell_type": "code",
   "execution_count": 12,
   "id": "e3436fc0",
   "metadata": {},
   "outputs": [],
   "source": [
    "# Drop rows where \"Title\" is null or empty\n",
    "bronze_df = bronze_df.dropna(subset=[\"Title\"])"
   ]
  },
  {
   "cell_type": "code",
   "execution_count": 13,
   "id": "b6e1e12d",
   "metadata": {},
   "outputs": [
    {
     "name": "stdout",
     "output_type": "stream",
     "text": [
      "+----------------+-----------------------+----------------------------+-----------------------------------+-----------------+------------------------+----------------------------+-----------------------------------+-------------------------------+--------------------------------------+--------------+---------------------+--------------------+---------------------------+-------------------+--------------------------+---------------------+----------------------------+--------------------+---------------------------+----------------------+-----------------------------+----------------------------+-----------------------------------+----------------------------+-----------------------------------+----------------------------+-----------------------------------+----------------------------+-----------------------------------+----------------------------+-----------------------------------+\n",
      "|Title_null_count|Title_string_null_count|Number_of_Reviews_null_count|Number_of_Reviews_string_null_count|Rating_null_count|Rating_string_null_count|Bought_Last_Month_null_count|Bought_Last_Month_string_null_count|Price_After_Discount_null_count|Price_After_Discount_string_null_count|MRP_null_count|MRP_string_null_count|Image_URL_null_count|Image_URL_string_null_count|Category_null_count|Category_string_null_count|Product_ID_null_count|Product_ID_string_null_count|TIMESTAMP_null_count|TIMESTAMP_string_null_count|scrape_date_null_count|scrape_date_string_null_count|5_Star_Percentage_null_count|5_Star_Percentage_string_null_count|4_Star_Percentage_null_count|4_Star_Percentage_string_null_count|3_Star_Percentage_null_count|3_Star_Percentage_string_null_count|2_Star_Percentage_null_count|2_Star_Percentage_string_null_count|1_Star_Percentage_null_count|1_Star_Percentage_string_null_count|\n",
      "+----------------+-----------------------+----------------------------+-----------------------------------+-----------------+------------------------+----------------------------+-----------------------------------+-------------------------------+--------------------------------------+--------------+---------------------+--------------------+---------------------------+-------------------+--------------------------+---------------------+----------------------------+--------------------+---------------------------+----------------------+-----------------------------+----------------------------+-----------------------------------+----------------------------+-----------------------------------+----------------------------+-----------------------------------+----------------------------+-----------------------------------+----------------------------+-----------------------------------+\n",
      "|0               |0                      |206                         |0                                  |130              |0                       |928                         |0                                  |47                             |0                                     |78            |0                    |278                 |0                          |0                  |0                         |0                    |0                           |0                   |0                          |0                     |0                            |167                         |0                                  |167                         |0                                  |167                         |0                                  |167                         |0                                  |167                         |0                                  |\n",
      "+----------------+-----------------------+----------------------------+-----------------------------------+-----------------+------------------------+----------------------------+-----------------------------------+-------------------------------+--------------------------------------+--------------+---------------------+--------------------+---------------------------+-------------------+--------------------------+---------------------+----------------------------+--------------------+---------------------------+----------------------+-----------------------------+----------------------------+-----------------------------------+----------------------------+-----------------------------------+----------------------------+-----------------------------------+----------------------------+-----------------------------------+----------------------------+-----------------------------------+\n",
      "\n"
     ]
    }
   ],
   "source": [
    "get_null_empty_counts(bronze_df)"
   ]
  },
  {
   "cell_type": "code",
   "execution_count": 14,
   "id": "57224140",
   "metadata": {},
   "outputs": [],
   "source": [
    "# Clean the \"Number_of_Reviews\" column\n",
    "\n",
    "from pyspark.sql.functions import regexp_replace\n",
    "# Step 1: Remove commas\n",
    "bronze_df = bronze_df.withColumn(\n",
    "    \"Number_of_Reviews\",\n",
    "    regexp_replace(\"Number_of_Reviews\", \",\", \"\")\n",
    ")\n",
    "\n",
    "# Step 2: Convert to float (optional) then fill nulls with 0\n",
    "bronze_df = bronze_df.withColumn(\n",
    "    \"Number_of_Reviews\",\n",
    "    when(col(\"Number_of_Reviews\").isNull(), 0)\n",
    "    .otherwise(col(\"Number_of_Reviews\").cast(\"float\"))\n",
    ")\n",
    "\n",
    "# Step 3: Convert to int\n",
    "bronze_df = bronze_df.withColumn(\n",
    "    \"Number_of_Reviews\",\n",
    "    col(\"Number_of_Reviews\").cast(\"int\")\n",
    ")"
   ]
  },
  {
   "cell_type": "code",
   "execution_count": 15,
   "id": "8d29ded4",
   "metadata": {},
   "outputs": [
    {
     "name": "stdout",
     "output_type": "stream",
     "text": [
      "+--------------------------------------------------------------------------------------------------------------------------------------------------------------------------------------------------------+-----------------+----------------------------------+-------------------------+--------------------+------+--------------------------------------------------------------+----------+----------+-------------------+-----------+-----------------+-----------------+-----------------+-----------------+-----------------+\n",
      "|Title                                                                                                                                                                                                   |Number_of_Reviews|Rating                            |Bought_Last_Month        |Price_After_Discount|MRP   |Image_URL                                                     |Category  |Product_ID|TIMESTAMP          |scrape_date|5_Star_Percentage|4_Star_Percentage|3_Star_Percentage|2_Star_Percentage|1_Star_Percentage|\n",
      "+--------------------------------------------------------------------------------------------------------------------------------------------------------------------------------------------------------+-----------------+----------------------------------+-------------------------+--------------------+------+--------------------------------------------------------------+----------+----------+-------------------+-----------+-----------------+-----------------+-----------------+-----------------+-----------------+\n",
      "|soundcore by Anker Q20i Wireless Bluetooth Over-Ear Headphones with Hybrid Active Noise Cancelling, 40h Playtime in ANC Mode, Hi-Res Audio, Deep Bass, Personalization via App (Black)                  |32476            |4.3 out of 5 stars, rating details|2K+ bought in past month |4,498               |₹9,598|https://m.media-amazon.com/images/I/51CnDMbXZzL._AC_UY218_.jpg|Headphones|1         |2025-07-19 03:47:20|2025-07-19 |61%              |23%              |7%               |4%               |5%               |\n",
      "|Boult Newly Launched Soniq Over Ear Bluetooth Headphones with 70H Playtime, 40mm Bass Drivers, Zen™ ENC Mic, Type-C Fast Charging, Dual Device Pairing, BTv 5.4, AUX Option, Wireless Headphones (White)|44               |4.1 out of 5 stars, rating details|1K+ bought in past month |1,999               |₹5,999|https://m.media-amazon.com/images/I/71H7RtDgncL._AC_UY218_.jpg|Headphones|2         |2025-07-19 03:47:20|2025-07-19 |null             |null             |null             |null             |null             |\n",
      "|boAt Rockerz 480 W/RGB LEDs, 6 Light Modes, 40Mm Drivers, Beast Mode, 60Hrs Playback, Enx Tech, BT V5.3, Adaptive Fit & Easy Access Controls, Bluetooth Over Ear Headphones(White Sabre)                |1612             |4.1 out of 5 stars, rating details|4K+ bought in past month |1,799               |₹3,790|https://m.media-amazon.com/images/I/61cIHzCDl6L._AC_UY218_.jpg|Headphones|3         |2025-07-19 03:47:20|2025-07-19 |null             |null             |null             |null             |null             |\n",
      "|boAt Rockerz 425 Bluetooth Wireless On Ear Headphones Signature Sound, Enx Tech, ASAP Charge, 25H Playtime, Bluetooth V5.2, Dual Pairing with Mic (Ash Grey)                                            |4338             |3.6 out of 5 stars, rating details|1K+ bought in past month |1,499               |₹2,999|https://m.media-amazon.com/images/I/61R4Tj5podL._AC_UY218_.jpg|Headphones|4         |2025-07-19 03:47:20|2025-07-19 |null             |null             |null             |null             |null             |\n",
      "|boAt Rockerz 450, 15 HRS Battery, 40mm Drivers, Padded Ear Cushions, Integrated Controls, Dual Modes, On Ear Bluetooth Headphones, Wireless Headphone with Mic (Luscious Black)                         |118570           |4.0 out of 5 stars, rating details|5K+ bought in past month |1,499               |₹3,990|https://m.media-amazon.com/images/I/51FNnHjzhQL._AC_UY218_.jpg|Headphones|5         |2025-07-19 03:47:20|2025-07-19 |null             |null             |null             |null             |null             |\n",
      "|Boult Newly Launched Flex On Ear Bluetooth Headphones with 80H Playtime, 40mm Bass Drivers, Zen™ ENC Mic, Type-C Fast Charging, Bluetooth 5.4, AUX Option, 60ms Low Latency, IPX5 (Jet Black)           |238              |4.1 out of 5 stars, rating details|500+ bought in past month|1,499               |₹5,499|null                                                          |Headphones|6         |2025-07-19 03:47:20|2025-07-19 |null             |null             |null             |null             |null             |\n",
      "|HAMMER Vibe ENC Bluetooth Headphone, 40mm Driver, Dual Pairing, 50hrs Playtime, Voice Assistant, BT V5.4, Game Mode, Soft Cushions, Lightweight Headphones for Music, Gaming and Calls (Black)          |55               |4.0 out of 5 stars, rating details|400+ bought in past month|1,499               |₹4,999|null                                                          |Headphones|7         |2025-07-19 03:47:20|2025-07-19 |null             |null             |null             |null             |null             |\n",
      "|soundcore H30i Wireless On-Ear Headphones, Foldable Design, Pure Bass, 70H Playtime, Bluetooth 5.3, Lightweight and Comfortable, App Connectivity, Multipoint Connection                                |6767             |4.1 out of 5 stars, rating details|400+ bought in past month|1,899               |₹4,499|null                                                          |Headphones|8         |2025-07-19 03:47:20|2025-07-19 |null             |null             |null             |null             |null             |\n",
      "|Honeywell New Launched Moxie V20 Bluetooth v5.4 On-Ear Headphones with Mic, ENC, 25H Playback, Deep Bass, IPX4, Aux, Stereo Sound, 40ms Low Latency Gaming Mode, Padded Cushion                         |33               |4.6 out of 5 stars, rating details|100+ bought in past month|1,399               |₹1,999|null                                                          |Headphones|9         |2025-07-19 03:47:20|2025-07-19 |null             |null             |null             |null             |null             |\n",
      "|AILIHEN Kids Wired Headphones for School, Headphones with Microphone for Chromebook Laptop Computer Smartphone, 3.5mm Foldable Lightweight Headphones for Teen Teenager (Rose Gold)                     |3                |4.1 out of 5 stars, rating details|null                     |1,611               |₹2,625|null                                                          |Headphones|10        |2025-07-19 03:47:20|2025-07-19 |null             |null             |null             |null             |null             |\n",
      "|Boat BassHeads 100 in-Ear Headphones with Mic (Black)                                                                                                                                                   |422091           |4.1 out of 5 stars, rating details|5K+ bought in past month |399                 |₹999  |https://m.media-amazon.com/images/I/513ugd16C6L._AC_UY218_.jpg|Headphones|11        |2025-07-19 03:47:20|2025-07-19 |null             |null             |null             |null             |null             |\n",
      "|Sony MDR-ZX110A On Ear Stereo Wired Headphones (White), Without Mic                                                                                                                                     |67121            |4.0 out of 5 stars, rating details|3K+ bought in past month |847                 |₹1,390|https://m.media-amazon.com/images/I/41BoLKMYjnL._AC_UY218_.jpg|Headphones|12        |2025-07-19 03:47:20|2025-07-19 |null             |null             |null             |null             |null             |\n",
      "|JBL Tune 510BT, On Ear Wireless Headphones with Mic, up to 40 Hours Playtime, Pure Bass, Quick Charging, Dual Pairing, Bluetooth 5.0 & Voice Assistant Support for Mobile Phones (Black)                |20584            |4.1 out of 5 stars, rating details|3K+ bought in past month |2,799               |₹4,449|https://m.media-amazon.com/images/I/61kFL7ywsZS._AC_UY218_.jpg|Headphones|13        |2025-07-19 03:47:20|2025-07-19 |null             |null             |null             |null             |null             |\n",
      "|boAt New Launch Rockerz 650 Pro, Touch/Swipe Controls, Dolby Audio, 80Hrs Battery, 2Mics ENx, Fast Charge, App Support, Dual Pair, Bluetooth Over Ear Headphones with Mic (Iris Black)                  |882              |4.3 out of 5 stars, rating details|4K+ bought in past month |2,968               |₹8,990|https://m.media-amazon.com/images/I/61-XNG5lPBL._AC_UY218_.jpg|Headphones|14        |2025-07-19 03:47:20|2025-07-19 |null             |null             |null             |null             |null             |\n",
      "|boAt Rockerz 450, 15 HRS Battery, 40mm Drivers, Padded Ear Cushions, Integrated Controls, Dual Modes, On Ear Bluetooth Headphones, Wireless Headphone with Mic (Hazel Beige)                            |118570           |4.0 out of 5 stars, rating details|3K+ bought in past month |1,599               |₹3,990|https://m.media-amazon.com/images/I/51Tf2zsMODL._AC_UY218_.jpg|Headphones|15        |2025-07-19 03:47:20|2025-07-19 |null             |null             |null             |null             |null             |\n",
      "|Boult Q Over Ear Bluetooth Headphones with 70H Playtime, 40mm Bass Drivers, Zen™ ENC Mic, Type-C Fast Charging, 4 EQ Modes, BTv 5.4, AUX Option, Easy Control, IPX5 headphones wireless with mic (Black)|3537             |4.1 out of 5 stars, rating details|5K+ bought in past month |1,999               |₹5,999|https://m.media-amazon.com/images/I/71zfpkr4bYL._AC_UY218_.jpg|Headphones|16        |2025-07-19 03:47:20|2025-07-19 |null             |null             |null             |null             |null             |\n",
      "|Samsung Galaxy Buds Core (Black) with Galaxy AI | Powerful Active Noise Cancellation | Enriched Bass | IP54                                                                                             |45               |3.8 out of 5 stars, rating details|null                     |4,999               |₹9,999|https://m.media-amazon.com/images/I/61WRrNa6BIL._AC_UY218_.jpg|Headphones|17        |2025-07-19 03:47:20|2025-07-19 |null             |null             |null             |null             |null             |\n",
      "|ZEBRONICS THUNDER Bluetooth 5.3 Wireless Headphones with 60H Backup, Gaming Mode, Dual Pairing, ENC, AUX, Micro SD, Voice assistant, Comfortable Earcups, Call Function(Black)                          |25128            |3.7 out of 5 stars, rating details|3K+ bought in past month |799                 |₹1,199|https://m.media-amazon.com/images/I/618-45t0P5L._AC_UY218_.jpg|Headphones|18        |2025-07-19 03:47:20|2025-07-19 |null             |null             |null             |null             |null             |\n",
      "|Boult Audio Z40 True Wireless in Ear Earbuds with 60H Playtime, Zen™ ENC Mic, Low Latency Gaming, Type-C Fast Charging, Made in India, 10mm Rich Bass Drivers, IPX5, Bluetooth 5.3 Ear Buds TWS (Blue)  |0                |3.8 out of 5 stars, rating details|null                     |999                 |₹4,999|null                                                          |Headphones|19        |2025-07-19 03:47:20|2025-07-19 |null             |null             |null             |null             |null             |\n",
      "|boAt Rockerz 113 (2025 Launch), 40 Hrs Playback, Dual Pair, Fast Charge, ENx Tech, Low Latency, Magnetic Buds, Bluetooth Neckband, Wireless with Mic Earphones(Active Black)                            |187              |4.1 out of 5 stars, rating details|5K+ bought in past month |899                 |₹2,490|https://m.media-amazon.com/images/I/61B5hIAmvdL._AC_UY218_.jpg|Headphones|20        |2025-07-19 03:47:20|2025-07-19 |null             |null             |null             |null             |null             |\n",
      "+--------------------------------------------------------------------------------------------------------------------------------------------------------------------------------------------------------+-----------------+----------------------------------+-------------------------+--------------------+------+--------------------------------------------------------------+----------+----------+-------------------+-----------+-----------------+-----------------+-----------------+-----------------+-----------------+\n",
      "only showing top 20 rows\n",
      "\n"
     ]
    }
   ],
   "source": [
    "#get_null_empty_counts(bronze_df)\n",
    "bronze_df.show(truncate=False)"
   ]
  },
  {
   "cell_type": "code",
   "execution_count": 16,
   "id": "7e06dc20",
   "metadata": {},
   "outputs": [],
   "source": [
    "# Clean the \"Bought_Last_Month\" column to handle \"K\" notation and convert to numeric\n",
    "\n",
    "from pyspark.sql.functions import regexp_extract\n",
    "\n",
    "# Extract number part and handle \"K\" notation\n",
    "bronze_df = bronze_df.withColumn(\n",
    "    \"Bought_Last_Month_Cleaned\",\n",
    "    when(col(\"Bought_Last_Month\").isNull(), 0)\n",
    "    .otherwise(\n",
    "        when(regexp_extract(col(\"Bought_Last_Month\"), r\"(\\d+\\.?\\d*)K\", 1) != \"\",  # Handles \"1K\", \"2.5K\", etc.\n",
    "             regexp_extract(col(\"Bought_Last_Month\"), r\"(\\d+\\.?\\d*)K\", 1).cast(\"int\") * 1000)\n",
    "        .otherwise(\n",
    "            regexp_extract(col(\"Bought_Last_Month\"), r\"(\\d+)\", 1).cast(\"int\")  # Handles plain numbers like \"400\"\n",
    "        )\n",
    "    )\n",
    ")\n",
    "\n",
    "bronze_df = bronze_df.drop(\"Bought_Last_Month\").withColumnRenamed(\"Bought_Last_Month_Cleaned\", \"Bought_Last_Month\")\n"
   ]
  },
  {
   "cell_type": "code",
   "execution_count": 17,
   "id": "cb896624",
   "metadata": {},
   "outputs": [
    {
     "name": "stdout",
     "output_type": "stream",
     "text": [
      "+----------------+-----------------------+----------------------------+-----------------------------------+-----------------+------------------------+-------------------------------+--------------------------------------+--------------+---------------------+--------------------+---------------------------+-------------------+--------------------------+---------------------+----------------------------+--------------------+---------------------------+----------------------+-----------------------------+----------------------------+-----------------------------------+----------------------------+-----------------------------------+----------------------------+-----------------------------------+----------------------------+-----------------------------------+----------------------------+-----------------------------------+----------------------------+-----------------------------------+\n",
      "|Title_null_count|Title_string_null_count|Number_of_Reviews_null_count|Number_of_Reviews_string_null_count|Rating_null_count|Rating_string_null_count|Price_After_Discount_null_count|Price_After_Discount_string_null_count|MRP_null_count|MRP_string_null_count|Image_URL_null_count|Image_URL_string_null_count|Category_null_count|Category_string_null_count|Product_ID_null_count|Product_ID_string_null_count|TIMESTAMP_null_count|TIMESTAMP_string_null_count|scrape_date_null_count|scrape_date_string_null_count|5_Star_Percentage_null_count|5_Star_Percentage_string_null_count|4_Star_Percentage_null_count|4_Star_Percentage_string_null_count|3_Star_Percentage_null_count|3_Star_Percentage_string_null_count|2_Star_Percentage_null_count|2_Star_Percentage_string_null_count|1_Star_Percentage_null_count|1_Star_Percentage_string_null_count|Bought_Last_Month_null_count|Bought_Last_Month_string_null_count|\n",
      "+----------------+-----------------------+----------------------------+-----------------------------------+-----------------+------------------------+-------------------------------+--------------------------------------+--------------+---------------------+--------------------+---------------------------+-------------------+--------------------------+---------------------+----------------------------+--------------------+---------------------------+----------------------+-----------------------------+----------------------------+-----------------------------------+----------------------------+-----------------------------------+----------------------------+-----------------------------------+----------------------------+-----------------------------------+----------------------------+-----------------------------------+----------------------------+-----------------------------------+\n",
      "|0               |0                      |0                           |0                                  |130              |0                       |47                             |0                                     |78            |0                    |278                 |0                          |0                  |0                         |0                    |0                           |0                   |0                          |0                     |0                            |167                         |0                                  |167                         |0                                  |167                         |0                                  |167                         |0                                  |167                         |0                                  |0                           |0                                  |\n",
      "+----------------+-----------------------+----------------------------+-----------------------------------+-----------------+------------------------+-------------------------------+--------------------------------------+--------------+---------------------+--------------------+---------------------------+-------------------+--------------------------+---------------------+----------------------------+--------------------+---------------------------+----------------------+-----------------------------+----------------------------+-----------------------------------+----------------------------+-----------------------------------+----------------------------+-----------------------------------+----------------------------+-----------------------------------+----------------------------+-----------------------------------+----------------------------+-----------------------------------+\n",
      "\n",
      "root\n",
      " |-- Title: string (nullable = true)\n",
      " |-- Number_of_Reviews: integer (nullable = true)\n",
      " |-- Rating: string (nullable = true)\n",
      " |-- Price_After_Discount: string (nullable = true)\n",
      " |-- MRP: string (nullable = true)\n",
      " |-- Image_URL: string (nullable = true)\n",
      " |-- Category: string (nullable = true)\n",
      " |-- Product_ID: string (nullable = true)\n",
      " |-- TIMESTAMP: string (nullable = true)\n",
      " |-- scrape_date: date (nullable = true)\n",
      " |-- 5_Star_Percentage: string (nullable = true)\n",
      " |-- 4_Star_Percentage: string (nullable = true)\n",
      " |-- 3_Star_Percentage: string (nullable = true)\n",
      " |-- 2_Star_Percentage: string (nullable = true)\n",
      " |-- 1_Star_Percentage: string (nullable = true)\n",
      " |-- Bought_Last_Month: integer (nullable = true)\n",
      "\n",
      "+--------------------------------------------------------------------------------------------------------------------------------------------------------------------------------------------------------+-----------------+----------------------------------+--------------------+------+--------------------------------------------------------------+----------+----------+-------------------+-----------+-----------------+-----------------+-----------------+-----------------+-----------------+-----------------+\n",
      "|Title                                                                                                                                                                                                   |Number_of_Reviews|Rating                            |Price_After_Discount|MRP   |Image_URL                                                     |Category  |Product_ID|TIMESTAMP          |scrape_date|5_Star_Percentage|4_Star_Percentage|3_Star_Percentage|2_Star_Percentage|1_Star_Percentage|Bought_Last_Month|\n",
      "+--------------------------------------------------------------------------------------------------------------------------------------------------------------------------------------------------------+-----------------+----------------------------------+--------------------+------+--------------------------------------------------------------+----------+----------+-------------------+-----------+-----------------+-----------------+-----------------+-----------------+-----------------+-----------------+\n",
      "|soundcore by Anker Q20i Wireless Bluetooth Over-Ear Headphones with Hybrid Active Noise Cancelling, 40h Playtime in ANC Mode, Hi-Res Audio, Deep Bass, Personalization via App (Black)                  |32476            |4.3 out of 5 stars, rating details|4,498               |₹9,598|https://m.media-amazon.com/images/I/51CnDMbXZzL._AC_UY218_.jpg|Headphones|1         |2025-07-19 03:47:20|2025-07-19 |61%              |23%              |7%               |4%               |5%               |2000             |\n",
      "|Boult Newly Launched Soniq Over Ear Bluetooth Headphones with 70H Playtime, 40mm Bass Drivers, Zen™ ENC Mic, Type-C Fast Charging, Dual Device Pairing, BTv 5.4, AUX Option, Wireless Headphones (White)|44               |4.1 out of 5 stars, rating details|1,999               |₹5,999|https://m.media-amazon.com/images/I/71H7RtDgncL._AC_UY218_.jpg|Headphones|2         |2025-07-19 03:47:20|2025-07-19 |null             |null             |null             |null             |null             |1000             |\n",
      "|boAt Rockerz 480 W/RGB LEDs, 6 Light Modes, 40Mm Drivers, Beast Mode, 60Hrs Playback, Enx Tech, BT V5.3, Adaptive Fit & Easy Access Controls, Bluetooth Over Ear Headphones(White Sabre)                |1612             |4.1 out of 5 stars, rating details|1,799               |₹3,790|https://m.media-amazon.com/images/I/61cIHzCDl6L._AC_UY218_.jpg|Headphones|3         |2025-07-19 03:47:20|2025-07-19 |null             |null             |null             |null             |null             |4000             |\n",
      "|boAt Rockerz 425 Bluetooth Wireless On Ear Headphones Signature Sound, Enx Tech, ASAP Charge, 25H Playtime, Bluetooth V5.2, Dual Pairing with Mic (Ash Grey)                                            |4338             |3.6 out of 5 stars, rating details|1,499               |₹2,999|https://m.media-amazon.com/images/I/61R4Tj5podL._AC_UY218_.jpg|Headphones|4         |2025-07-19 03:47:20|2025-07-19 |null             |null             |null             |null             |null             |1000             |\n",
      "|boAt Rockerz 450, 15 HRS Battery, 40mm Drivers, Padded Ear Cushions, Integrated Controls, Dual Modes, On Ear Bluetooth Headphones, Wireless Headphone with Mic (Luscious Black)                         |118570           |4.0 out of 5 stars, rating details|1,499               |₹3,990|https://m.media-amazon.com/images/I/51FNnHjzhQL._AC_UY218_.jpg|Headphones|5         |2025-07-19 03:47:20|2025-07-19 |null             |null             |null             |null             |null             |5000             |\n",
      "|Boult Newly Launched Flex On Ear Bluetooth Headphones with 80H Playtime, 40mm Bass Drivers, Zen™ ENC Mic, Type-C Fast Charging, Bluetooth 5.4, AUX Option, 60ms Low Latency, IPX5 (Jet Black)           |238              |4.1 out of 5 stars, rating details|1,499               |₹5,499|null                                                          |Headphones|6         |2025-07-19 03:47:20|2025-07-19 |null             |null             |null             |null             |null             |500              |\n",
      "|HAMMER Vibe ENC Bluetooth Headphone, 40mm Driver, Dual Pairing, 50hrs Playtime, Voice Assistant, BT V5.4, Game Mode, Soft Cushions, Lightweight Headphones for Music, Gaming and Calls (Black)          |55               |4.0 out of 5 stars, rating details|1,499               |₹4,999|null                                                          |Headphones|7         |2025-07-19 03:47:20|2025-07-19 |null             |null             |null             |null             |null             |400              |\n",
      "|soundcore H30i Wireless On-Ear Headphones, Foldable Design, Pure Bass, 70H Playtime, Bluetooth 5.3, Lightweight and Comfortable, App Connectivity, Multipoint Connection                                |6767             |4.1 out of 5 stars, rating details|1,899               |₹4,499|null                                                          |Headphones|8         |2025-07-19 03:47:20|2025-07-19 |null             |null             |null             |null             |null             |400              |\n",
      "|Honeywell New Launched Moxie V20 Bluetooth v5.4 On-Ear Headphones with Mic, ENC, 25H Playback, Deep Bass, IPX4, Aux, Stereo Sound, 40ms Low Latency Gaming Mode, Padded Cushion                         |33               |4.6 out of 5 stars, rating details|1,399               |₹1,999|null                                                          |Headphones|9         |2025-07-19 03:47:20|2025-07-19 |null             |null             |null             |null             |null             |100              |\n",
      "|AILIHEN Kids Wired Headphones for School, Headphones with Microphone for Chromebook Laptop Computer Smartphone, 3.5mm Foldable Lightweight Headphones for Teen Teenager (Rose Gold)                     |3                |4.1 out of 5 stars, rating details|1,611               |₹2,625|null                                                          |Headphones|10        |2025-07-19 03:47:20|2025-07-19 |null             |null             |null             |null             |null             |0                |\n",
      "|Boat BassHeads 100 in-Ear Headphones with Mic (Black)                                                                                                                                                   |422091           |4.1 out of 5 stars, rating details|399                 |₹999  |https://m.media-amazon.com/images/I/513ugd16C6L._AC_UY218_.jpg|Headphones|11        |2025-07-19 03:47:20|2025-07-19 |null             |null             |null             |null             |null             |5000             |\n",
      "|Sony MDR-ZX110A On Ear Stereo Wired Headphones (White), Without Mic                                                                                                                                     |67121            |4.0 out of 5 stars, rating details|847                 |₹1,390|https://m.media-amazon.com/images/I/41BoLKMYjnL._AC_UY218_.jpg|Headphones|12        |2025-07-19 03:47:20|2025-07-19 |null             |null             |null             |null             |null             |3000             |\n",
      "|JBL Tune 510BT, On Ear Wireless Headphones with Mic, up to 40 Hours Playtime, Pure Bass, Quick Charging, Dual Pairing, Bluetooth 5.0 & Voice Assistant Support for Mobile Phones (Black)                |20584            |4.1 out of 5 stars, rating details|2,799               |₹4,449|https://m.media-amazon.com/images/I/61kFL7ywsZS._AC_UY218_.jpg|Headphones|13        |2025-07-19 03:47:20|2025-07-19 |null             |null             |null             |null             |null             |3000             |\n",
      "|boAt New Launch Rockerz 650 Pro, Touch/Swipe Controls, Dolby Audio, 80Hrs Battery, 2Mics ENx, Fast Charge, App Support, Dual Pair, Bluetooth Over Ear Headphones with Mic (Iris Black)                  |882              |4.3 out of 5 stars, rating details|2,968               |₹8,990|https://m.media-amazon.com/images/I/61-XNG5lPBL._AC_UY218_.jpg|Headphones|14        |2025-07-19 03:47:20|2025-07-19 |null             |null             |null             |null             |null             |4000             |\n",
      "|boAt Rockerz 450, 15 HRS Battery, 40mm Drivers, Padded Ear Cushions, Integrated Controls, Dual Modes, On Ear Bluetooth Headphones, Wireless Headphone with Mic (Hazel Beige)                            |118570           |4.0 out of 5 stars, rating details|1,599               |₹3,990|https://m.media-amazon.com/images/I/51Tf2zsMODL._AC_UY218_.jpg|Headphones|15        |2025-07-19 03:47:20|2025-07-19 |null             |null             |null             |null             |null             |3000             |\n",
      "|Boult Q Over Ear Bluetooth Headphones with 70H Playtime, 40mm Bass Drivers, Zen™ ENC Mic, Type-C Fast Charging, 4 EQ Modes, BTv 5.4, AUX Option, Easy Control, IPX5 headphones wireless with mic (Black)|3537             |4.1 out of 5 stars, rating details|1,999               |₹5,999|https://m.media-amazon.com/images/I/71zfpkr4bYL._AC_UY218_.jpg|Headphones|16        |2025-07-19 03:47:20|2025-07-19 |null             |null             |null             |null             |null             |5000             |\n",
      "|Samsung Galaxy Buds Core (Black) with Galaxy AI | Powerful Active Noise Cancellation | Enriched Bass | IP54                                                                                             |45               |3.8 out of 5 stars, rating details|4,999               |₹9,999|https://m.media-amazon.com/images/I/61WRrNa6BIL._AC_UY218_.jpg|Headphones|17        |2025-07-19 03:47:20|2025-07-19 |null             |null             |null             |null             |null             |0                |\n",
      "|ZEBRONICS THUNDER Bluetooth 5.3 Wireless Headphones with 60H Backup, Gaming Mode, Dual Pairing, ENC, AUX, Micro SD, Voice assistant, Comfortable Earcups, Call Function(Black)                          |25128            |3.7 out of 5 stars, rating details|799                 |₹1,199|https://m.media-amazon.com/images/I/618-45t0P5L._AC_UY218_.jpg|Headphones|18        |2025-07-19 03:47:20|2025-07-19 |null             |null             |null             |null             |null             |3000             |\n",
      "|Boult Audio Z40 True Wireless in Ear Earbuds with 60H Playtime, Zen™ ENC Mic, Low Latency Gaming, Type-C Fast Charging, Made in India, 10mm Rich Bass Drivers, IPX5, Bluetooth 5.3 Ear Buds TWS (Blue)  |0                |3.8 out of 5 stars, rating details|999                 |₹4,999|null                                                          |Headphones|19        |2025-07-19 03:47:20|2025-07-19 |null             |null             |null             |null             |null             |0                |\n",
      "|boAt Rockerz 113 (2025 Launch), 40 Hrs Playback, Dual Pair, Fast Charge, ENx Tech, Low Latency, Magnetic Buds, Bluetooth Neckband, Wireless with Mic Earphones(Active Black)                            |187              |4.1 out of 5 stars, rating details|899                 |₹2,490|https://m.media-amazon.com/images/I/61B5hIAmvdL._AC_UY218_.jpg|Headphones|20        |2025-07-19 03:47:20|2025-07-19 |null             |null             |null             |null             |null             |5000             |\n",
      "+--------------------------------------------------------------------------------------------------------------------------------------------------------------------------------------------------------+-----------------+----------------------------------+--------------------+------+--------------------------------------------------------------+----------+----------+-------------------+-----------+-----------------+-----------------+-----------------+-----------------+-----------------+-----------------+\n",
      "only showing top 20 rows\n",
      "\n"
     ]
    }
   ],
   "source": [
    "get_null_empty_counts(bronze_df)\n",
    "bronze_df.printSchema()\n",
    "bronze_df.show(truncate=False)"
   ]
  },
  {
   "cell_type": "code",
   "execution_count": 18,
   "id": "8d43b337",
   "metadata": {},
   "outputs": [],
   "source": [
    "# Clean the \"Rating\" column to extract numeric values\n",
    "\n",
    "from pyspark.sql.functions import col, when, regexp_extract, round as spark_round\n",
    "\n",
    "bronze_df = bronze_df.withColumn(\n",
    "    \"Rating_Cleaned\",\n",
    "    when(\n",
    "        col(\"Rating\").isNull() & (col(\"Number_of_Reviews\") == 0), 0.0  # Set to 0 if no reviews and null rating\n",
    "    ).otherwise(\n",
    "        spark_round(\n",
    "            regexp_extract(col(\"Rating\"), r\"(\\d+(\\.\\d+)?)\", 1).cast(\"double\"), 1  # Extract and round to 1 decimal\n",
    "        )\n",
    "    )\n",
    ")\n",
    "\n",
    "bronze_df = bronze_df.drop(\"Rating\").withColumnRenamed(\"Rating_Cleaned\", \"Rating\")"
   ]
  },
  {
   "cell_type": "code",
   "execution_count": 19,
   "id": "5225c78a",
   "metadata": {},
   "outputs": [
    {
     "name": "stdout",
     "output_type": "stream",
     "text": [
      "+----------------+-----------------------+----------------------------+-----------------------------------+-------------------------------+--------------------------------------+--------------+---------------------+--------------------+---------------------------+-------------------+--------------------------+---------------------+----------------------------+--------------------+---------------------------+----------------------+-----------------------------+----------------------------+-----------------------------------+----------------------------+-----------------------------------+----------------------------+-----------------------------------+----------------------------+-----------------------------------+----------------------------+-----------------------------------+----------------------------+-----------------------------------+-----------------+------------------------+\n",
      "|Title_null_count|Title_string_null_count|Number_of_Reviews_null_count|Number_of_Reviews_string_null_count|Price_After_Discount_null_count|Price_After_Discount_string_null_count|MRP_null_count|MRP_string_null_count|Image_URL_null_count|Image_URL_string_null_count|Category_null_count|Category_string_null_count|Product_ID_null_count|Product_ID_string_null_count|TIMESTAMP_null_count|TIMESTAMP_string_null_count|scrape_date_null_count|scrape_date_string_null_count|5_Star_Percentage_null_count|5_Star_Percentage_string_null_count|4_Star_Percentage_null_count|4_Star_Percentage_string_null_count|3_Star_Percentage_null_count|3_Star_Percentage_string_null_count|2_Star_Percentage_null_count|2_Star_Percentage_string_null_count|1_Star_Percentage_null_count|1_Star_Percentage_string_null_count|Bought_Last_Month_null_count|Bought_Last_Month_string_null_count|Rating_null_count|Rating_string_null_count|\n",
      "+----------------+-----------------------+----------------------------+-----------------------------------+-------------------------------+--------------------------------------+--------------+---------------------+--------------------+---------------------------+-------------------+--------------------------+---------------------+----------------------------+--------------------+---------------------------+----------------------+-----------------------------+----------------------------+-----------------------------------+----------------------------+-----------------------------------+----------------------------+-----------------------------------+----------------------------+-----------------------------------+----------------------------+-----------------------------------+----------------------------+-----------------------------------+-----------------+------------------------+\n",
      "|0               |0                      |0                           |0                                  |47                             |0                                     |78            |0                    |278                 |0                          |0                  |0                         |0                    |0                           |0                   |0                          |0                     |0                            |167                         |0                                  |167                         |0                                  |167                         |0                                  |167                         |0                                  |167                         |0                                  |0                           |0                                  |0                |0                       |\n",
      "+----------------+-----------------------+----------------------------+-----------------------------------+-------------------------------+--------------------------------------+--------------+---------------------+--------------------+---------------------------+-------------------+--------------------------+---------------------+----------------------------+--------------------+---------------------------+----------------------+-----------------------------+----------------------------+-----------------------------------+----------------------------+-----------------------------------+----------------------------+-----------------------------------+----------------------------+-----------------------------------+----------------------------+-----------------------------------+----------------------------+-----------------------------------+-----------------+------------------------+\n",
      "\n",
      "root\n",
      " |-- Title: string (nullable = true)\n",
      " |-- Number_of_Reviews: integer (nullable = true)\n",
      " |-- Price_After_Discount: string (nullable = true)\n",
      " |-- MRP: string (nullable = true)\n",
      " |-- Image_URL: string (nullable = true)\n",
      " |-- Category: string (nullable = true)\n",
      " |-- Product_ID: string (nullable = true)\n",
      " |-- TIMESTAMP: string (nullable = true)\n",
      " |-- scrape_date: date (nullable = true)\n",
      " |-- 5_Star_Percentage: string (nullable = true)\n",
      " |-- 4_Star_Percentage: string (nullable = true)\n",
      " |-- 3_Star_Percentage: string (nullable = true)\n",
      " |-- 2_Star_Percentage: string (nullable = true)\n",
      " |-- 1_Star_Percentage: string (nullable = true)\n",
      " |-- Bought_Last_Month: integer (nullable = true)\n",
      " |-- Rating: double (nullable = true)\n",
      "\n",
      "+--------------------+-----------------+--------------------+------+--------------------+----------+----------+-------------------+-----------+-----------------+-----------------+-----------------+-----------------+-----------------+-----------------+------+\n",
      "|               Title|Number_of_Reviews|Price_After_Discount|   MRP|           Image_URL|  Category|Product_ID|          TIMESTAMP|scrape_date|5_Star_Percentage|4_Star_Percentage|3_Star_Percentage|2_Star_Percentage|1_Star_Percentage|Bought_Last_Month|Rating|\n",
      "+--------------------+-----------------+--------------------+------+--------------------+----------+----------+-------------------+-----------+-----------------+-----------------+-----------------+-----------------+-----------------+-----------------+------+\n",
      "|soundcore by Anke...|            32476|               4,498|₹9,598|https://m.media-a...|Headphones|         1|2025-07-19 03:47:20| 2025-07-19|              61%|              23%|               7%|               4%|               5%|             2000|   4.3|\n",
      "|Boult Newly Launc...|               44|               1,999|₹5,999|https://m.media-a...|Headphones|         2|2025-07-19 03:47:20| 2025-07-19|             null|             null|             null|             null|             null|             1000|   4.1|\n",
      "|boAt Rockerz 480 ...|             1612|               1,799|₹3,790|https://m.media-a...|Headphones|         3|2025-07-19 03:47:20| 2025-07-19|             null|             null|             null|             null|             null|             4000|   4.1|\n",
      "|boAt Rockerz 425 ...|             4338|               1,499|₹2,999|https://m.media-a...|Headphones|         4|2025-07-19 03:47:20| 2025-07-19|             null|             null|             null|             null|             null|             1000|   3.6|\n",
      "|boAt Rockerz 450,...|           118570|               1,499|₹3,990|https://m.media-a...|Headphones|         5|2025-07-19 03:47:20| 2025-07-19|             null|             null|             null|             null|             null|             5000|   4.0|\n",
      "|Boult Newly Launc...|              238|               1,499|₹5,499|                null|Headphones|         6|2025-07-19 03:47:20| 2025-07-19|             null|             null|             null|             null|             null|              500|   4.1|\n",
      "|HAMMER Vibe ENC B...|               55|               1,499|₹4,999|                null|Headphones|         7|2025-07-19 03:47:20| 2025-07-19|             null|             null|             null|             null|             null|              400|   4.0|\n",
      "|soundcore H30i Wi...|             6767|               1,899|₹4,499|                null|Headphones|         8|2025-07-19 03:47:20| 2025-07-19|             null|             null|             null|             null|             null|              400|   4.1|\n",
      "|Honeywell New Lau...|               33|               1,399|₹1,999|                null|Headphones|         9|2025-07-19 03:47:20| 2025-07-19|             null|             null|             null|             null|             null|              100|   4.6|\n",
      "|AILIHEN Kids Wire...|                3|               1,611|₹2,625|                null|Headphones|        10|2025-07-19 03:47:20| 2025-07-19|             null|             null|             null|             null|             null|                0|   4.1|\n",
      "|Boat BassHeads 10...|           422091|                 399|  ₹999|https://m.media-a...|Headphones|        11|2025-07-19 03:47:20| 2025-07-19|             null|             null|             null|             null|             null|             5000|   4.1|\n",
      "|Sony MDR-ZX110A O...|            67121|                 847|₹1,390|https://m.media-a...|Headphones|        12|2025-07-19 03:47:20| 2025-07-19|             null|             null|             null|             null|             null|             3000|   4.0|\n",
      "|JBL Tune 510BT, O...|            20584|               2,799|₹4,449|https://m.media-a...|Headphones|        13|2025-07-19 03:47:20| 2025-07-19|             null|             null|             null|             null|             null|             3000|   4.1|\n",
      "|boAt New Launch R...|              882|               2,968|₹8,990|https://m.media-a...|Headphones|        14|2025-07-19 03:47:20| 2025-07-19|             null|             null|             null|             null|             null|             4000|   4.3|\n",
      "|boAt Rockerz 450,...|           118570|               1,599|₹3,990|https://m.media-a...|Headphones|        15|2025-07-19 03:47:20| 2025-07-19|             null|             null|             null|             null|             null|             3000|   4.0|\n",
      "|Boult Q Over Ear ...|             3537|               1,999|₹5,999|https://m.media-a...|Headphones|        16|2025-07-19 03:47:20| 2025-07-19|             null|             null|             null|             null|             null|             5000|   4.1|\n",
      "|Samsung Galaxy Bu...|               45|               4,999|₹9,999|https://m.media-a...|Headphones|        17|2025-07-19 03:47:20| 2025-07-19|             null|             null|             null|             null|             null|                0|   3.8|\n",
      "|ZEBRONICS THUNDER...|            25128|                 799|₹1,199|https://m.media-a...|Headphones|        18|2025-07-19 03:47:20| 2025-07-19|             null|             null|             null|             null|             null|             3000|   3.7|\n",
      "|Boult Audio Z40 T...|                0|                 999|₹4,999|                null|Headphones|        19|2025-07-19 03:47:20| 2025-07-19|             null|             null|             null|             null|             null|                0|   3.8|\n",
      "|boAt Rockerz 113 ...|              187|                 899|₹2,490|https://m.media-a...|Headphones|        20|2025-07-19 03:47:20| 2025-07-19|             null|             null|             null|             null|             null|             5000|   4.1|\n",
      "+--------------------+-----------------+--------------------+------+--------------------+----------+----------+-------------------+-----------+-----------------+-----------------+-----------------+-----------------+-----------------+-----------------+------+\n",
      "only showing top 20 rows\n",
      "\n"
     ]
    }
   ],
   "source": [
    "get_null_empty_counts(bronze_df)\n",
    "bronze_df.printSchema()\n",
    "bronze_df.show(truncate=True)"
   ]
  },
  {
   "cell_type": "code",
   "execution_count": 20,
   "id": "464af7ce",
   "metadata": {},
   "outputs": [],
   "source": [
    "# Transform Price and MRP columns\n",
    "\n",
    "# Step 1: Clean both columns (remove currency symbols and commas, cast to float)\n",
    "bronze_df = bronze_df.withColumn(\n",
    "    \"Price_After_Discount_Cleaned\",\n",
    "    regexp_replace(col(\"Price_After_Discount\"), r\"[^\\d.]\", \"\").cast(\"float\")\n",
    ").withColumn(\n",
    "    \"MRP_Cleaned\",\n",
    "    regexp_replace(col(\"MRP\"), r\"[^\\d.]\", \"\").cast(\"float\")\n",
    ")\n",
    "\n",
    "# Step 2: Impute missing values\n",
    "bronze_df = bronze_df.withColumn(\n",
    "    \"Price_Final\",\n",
    "    when(col(\"Price_After_Discount_Cleaned\").isNotNull(), col(\"Price_After_Discount_Cleaned\"))\n",
    "    .otherwise(col(\"MRP_Cleaned\"))\n",
    ").withColumn(\n",
    "    \"MRP_Final\",\n",
    "    when(col(\"MRP_Cleaned\").isNotNull(), col(\"MRP_Cleaned\"))\n",
    "    .otherwise(col(\"Price_After_Discount_Cleaned\"))\n",
    ")\n",
    "\n",
    "# Step 3: Drop rows where both were originally null\n",
    "bronze_df = bronze_df.filter(\n",
    "    col(\"Price_Final\").isNotNull() & col(\"MRP_Final\").isNotNull()\n",
    ")\n",
    "\n",
    "# Step 4: Drop original columns if not needed\n",
    "bronze_df = bronze_df.drop(\"Price_After_Discount\", \"MRP\", \"Price_After_Discount_Cleaned\", \"MRP_Cleaned\")\n",
    "\n",
    "# Step 5: Rename cleaned columns to original names if desired\n",
    "bronze_df = bronze_df.withColumnRenamed(\"Price_Final\", \"Price_After_Discount\") \\\n",
    "                     .withColumnRenamed(\"MRP_Final\", \"MRP\")"
   ]
  },
  {
   "cell_type": "code",
   "execution_count": 21,
   "id": "7ee17a05",
   "metadata": {},
   "outputs": [
    {
     "name": "stdout",
     "output_type": "stream",
     "text": [
      "+----------------+-----------------------+----------------------------+-----------------------------------+--------------------+---------------------------+-------------------+--------------------------+---------------------+----------------------------+--------------------+---------------------------+----------------------+-----------------------------+----------------------------+-----------------------------------+----------------------------+-----------------------------------+----------------------------+-----------------------------------+----------------------------+-----------------------------------+----------------------------+-----------------------------------+----------------------------+-----------------------------------+-----------------+------------------------+-------------------------------+--------------------------------------+--------------+---------------------+\n",
      "|Title_null_count|Title_string_null_count|Number_of_Reviews_null_count|Number_of_Reviews_string_null_count|Image_URL_null_count|Image_URL_string_null_count|Category_null_count|Category_string_null_count|Product_ID_null_count|Product_ID_string_null_count|TIMESTAMP_null_count|TIMESTAMP_string_null_count|scrape_date_null_count|scrape_date_string_null_count|5_Star_Percentage_null_count|5_Star_Percentage_string_null_count|4_Star_Percentage_null_count|4_Star_Percentage_string_null_count|3_Star_Percentage_null_count|3_Star_Percentage_string_null_count|2_Star_Percentage_null_count|2_Star_Percentage_string_null_count|1_Star_Percentage_null_count|1_Star_Percentage_string_null_count|Bought_Last_Month_null_count|Bought_Last_Month_string_null_count|Rating_null_count|Rating_string_null_count|Price_After_Discount_null_count|Price_After_Discount_string_null_count|MRP_null_count|MRP_string_null_count|\n",
      "+----------------+-----------------------+----------------------------+-----------------------------------+--------------------+---------------------------+-------------------+--------------------------+---------------------+----------------------------+--------------------+---------------------------+----------------------+-----------------------------+----------------------------+-----------------------------------+----------------------------+-----------------------------------+----------------------------+-----------------------------------+----------------------------+-----------------------------------+----------------------------+-----------------------------------+----------------------------+-----------------------------------+-----------------+------------------------+-------------------------------+--------------------------------------+--------------+---------------------+\n",
      "|0               |0                      |0                           |0                                  |273                 |0                          |0                  |0                         |0                    |0                           |0                   |0                          |0                     |0                            |166                         |0                                  |166                         |0                                  |166                         |0                                  |166                         |0                                  |166                         |0                                  |0                           |0                                  |0                |0                       |0                              |0                                     |0             |0                    |\n",
      "+----------------+-----------------------+----------------------------+-----------------------------------+--------------------+---------------------------+-------------------+--------------------------+---------------------+----------------------------+--------------------+---------------------------+----------------------+-----------------------------+----------------------------+-----------------------------------+----------------------------+-----------------------------------+----------------------------+-----------------------------------+----------------------------+-----------------------------------+----------------------------+-----------------------------------+----------------------------+-----------------------------------+-----------------+------------------------+-------------------------------+--------------------------------------+--------------+---------------------+\n",
      "\n",
      "root\n",
      " |-- Title: string (nullable = true)\n",
      " |-- Number_of_Reviews: integer (nullable = true)\n",
      " |-- Image_URL: string (nullable = true)\n",
      " |-- Category: string (nullable = true)\n",
      " |-- Product_ID: string (nullable = true)\n",
      " |-- TIMESTAMP: string (nullable = true)\n",
      " |-- scrape_date: date (nullable = true)\n",
      " |-- 5_Star_Percentage: string (nullable = true)\n",
      " |-- 4_Star_Percentage: string (nullable = true)\n",
      " |-- 3_Star_Percentage: string (nullable = true)\n",
      " |-- 2_Star_Percentage: string (nullable = true)\n",
      " |-- 1_Star_Percentage: string (nullable = true)\n",
      " |-- Bought_Last_Month: integer (nullable = true)\n",
      " |-- Rating: double (nullable = true)\n",
      " |-- Price_After_Discount: float (nullable = true)\n",
      " |-- MRP: float (nullable = true)\n",
      "\n",
      "+--------------------+-----------------+--------------------+----------+----------+-------------------+-----------+-----------------+-----------------+-----------------+-----------------+-----------------+-----------------+------+--------------------+------+\n",
      "|               Title|Number_of_Reviews|           Image_URL|  Category|Product_ID|          TIMESTAMP|scrape_date|5_Star_Percentage|4_Star_Percentage|3_Star_Percentage|2_Star_Percentage|1_Star_Percentage|Bought_Last_Month|Rating|Price_After_Discount|   MRP|\n",
      "+--------------------+-----------------+--------------------+----------+----------+-------------------+-----------+-----------------+-----------------+-----------------+-----------------+-----------------+-----------------+------+--------------------+------+\n",
      "|soundcore by Anke...|            32476|https://m.media-a...|Headphones|         1|2025-07-19 03:47:20| 2025-07-19|              61%|              23%|               7%|               4%|               5%|             2000|   4.3|              4498.0|9598.0|\n",
      "|Boult Newly Launc...|               44|https://m.media-a...|Headphones|         2|2025-07-19 03:47:20| 2025-07-19|             null|             null|             null|             null|             null|             1000|   4.1|              1999.0|5999.0|\n",
      "|boAt Rockerz 480 ...|             1612|https://m.media-a...|Headphones|         3|2025-07-19 03:47:20| 2025-07-19|             null|             null|             null|             null|             null|             4000|   4.1|              1799.0|3790.0|\n",
      "|boAt Rockerz 425 ...|             4338|https://m.media-a...|Headphones|         4|2025-07-19 03:47:20| 2025-07-19|             null|             null|             null|             null|             null|             1000|   3.6|              1499.0|2999.0|\n",
      "|boAt Rockerz 450,...|           118570|https://m.media-a...|Headphones|         5|2025-07-19 03:47:20| 2025-07-19|             null|             null|             null|             null|             null|             5000|   4.0|              1499.0|3990.0|\n",
      "|Boult Newly Launc...|              238|                null|Headphones|         6|2025-07-19 03:47:20| 2025-07-19|             null|             null|             null|             null|             null|              500|   4.1|              1499.0|5499.0|\n",
      "|HAMMER Vibe ENC B...|               55|                null|Headphones|         7|2025-07-19 03:47:20| 2025-07-19|             null|             null|             null|             null|             null|              400|   4.0|              1499.0|4999.0|\n",
      "|soundcore H30i Wi...|             6767|                null|Headphones|         8|2025-07-19 03:47:20| 2025-07-19|             null|             null|             null|             null|             null|              400|   4.1|              1899.0|4499.0|\n",
      "|Honeywell New Lau...|               33|                null|Headphones|         9|2025-07-19 03:47:20| 2025-07-19|             null|             null|             null|             null|             null|              100|   4.6|              1399.0|1999.0|\n",
      "|AILIHEN Kids Wire...|                3|                null|Headphones|        10|2025-07-19 03:47:20| 2025-07-19|             null|             null|             null|             null|             null|                0|   4.1|              1611.0|2625.0|\n",
      "|Boat BassHeads 10...|           422091|https://m.media-a...|Headphones|        11|2025-07-19 03:47:20| 2025-07-19|             null|             null|             null|             null|             null|             5000|   4.1|               399.0| 999.0|\n",
      "|Sony MDR-ZX110A O...|            67121|https://m.media-a...|Headphones|        12|2025-07-19 03:47:20| 2025-07-19|             null|             null|             null|             null|             null|             3000|   4.0|               847.0|1390.0|\n",
      "|JBL Tune 510BT, O...|            20584|https://m.media-a...|Headphones|        13|2025-07-19 03:47:20| 2025-07-19|             null|             null|             null|             null|             null|             3000|   4.1|              2799.0|4449.0|\n",
      "|boAt New Launch R...|              882|https://m.media-a...|Headphones|        14|2025-07-19 03:47:20| 2025-07-19|             null|             null|             null|             null|             null|             4000|   4.3|              2968.0|8990.0|\n",
      "|boAt Rockerz 450,...|           118570|https://m.media-a...|Headphones|        15|2025-07-19 03:47:20| 2025-07-19|             null|             null|             null|             null|             null|             3000|   4.0|              1599.0|3990.0|\n",
      "|Boult Q Over Ear ...|             3537|https://m.media-a...|Headphones|        16|2025-07-19 03:47:20| 2025-07-19|             null|             null|             null|             null|             null|             5000|   4.1|              1999.0|5999.0|\n",
      "|Samsung Galaxy Bu...|               45|https://m.media-a...|Headphones|        17|2025-07-19 03:47:20| 2025-07-19|             null|             null|             null|             null|             null|                0|   3.8|              4999.0|9999.0|\n",
      "|ZEBRONICS THUNDER...|            25128|https://m.media-a...|Headphones|        18|2025-07-19 03:47:20| 2025-07-19|             null|             null|             null|             null|             null|             3000|   3.7|               799.0|1199.0|\n",
      "|Boult Audio Z40 T...|                0|                null|Headphones|        19|2025-07-19 03:47:20| 2025-07-19|             null|             null|             null|             null|             null|                0|   3.8|               999.0|4999.0|\n",
      "|boAt Rockerz 113 ...|              187|https://m.media-a...|Headphones|        20|2025-07-19 03:47:20| 2025-07-19|             null|             null|             null|             null|             null|             5000|   4.1|               899.0|2490.0|\n",
      "+--------------------+-----------------+--------------------+----------+----------+-------------------+-----------+-----------------+-----------------+-----------------+-----------------+-----------------+-----------------+------+--------------------+------+\n",
      "only showing top 20 rows\n",
      "\n"
     ]
    }
   ],
   "source": [
    "get_null_empty_counts(bronze_df)\n",
    "bronze_df.printSchema()\n",
    "bronze_df.show(truncate=True)"
   ]
  },
  {
   "cell_type": "code",
   "execution_count": 22,
   "id": "e9e72cc2",
   "metadata": {},
   "outputs": [],
   "source": [
    "# Handling Star Rating Percentages \n",
    "\n",
    "# List of star rating percentage columns\n",
    "star_cols = [\n",
    "    \"5_Star_Percentage\",\n",
    "    \"4_Star_Percentage\",\n",
    "    \"3_Star_Percentage\",\n",
    "    \"2_Star_Percentage\",\n",
    "    \"1_Star_Percentage\"\n",
    "]\n",
    "\n",
    "# Apply conditional logic to each star column\n",
    "for star_col in star_cols:\n",
    "    bronze_df = bronze_df.withColumn(\n",
    "        star_col,\n",
    "        when(\n",
    "            (col(\"Number_of_Reviews\") == 0) & col(star_col).isNull(), 0\n",
    "        ).otherwise(regexp_replace(col(star_col), \"%\", \"\").cast(\"float\"))\n",
    "    )"
   ]
  },
  {
   "cell_type": "code",
   "execution_count": 23,
   "id": "83fd4271",
   "metadata": {},
   "outputs": [],
   "source": [
    "# Define a placeholder URL for missing images\n",
    "placeholder_url = \"https://github.com/Avcon900/Ecom_Products_Data_analytics/blob/master/placeholder_images/placeholder.png?raw=true\"\n",
    "\n",
    "bronze_df = bronze_df.withColumn(\n",
    "    \"Image_URL\",\n",
    "    when(col(\"Image_URL\").isNull(), placeholder_url)\n",
    "    .otherwise(col(\"Image_URL\"))\n",
    ")"
   ]
  },
  {
   "cell_type": "code",
   "execution_count": 24,
   "id": "a367b4ed",
   "metadata": {},
   "outputs": [
    {
     "name": "stdout",
     "output_type": "stream",
     "text": [
      "+----------------+-----------------------+----------------------------+-----------------------------------+--------------------+---------------------------+-------------------+--------------------------+---------------------+----------------------------+--------------------+---------------------------+----------------------+-----------------------------+----------------------------+-----------------------------------+----------------------------+-----------------------------------+----------------------------+-----------------------------------+----------------------------+-----------------------------------+----------------------------+-----------------------------------+----------------------------+-----------------------------------+-----------------+------------------------+-------------------------------+--------------------------------------+--------------+---------------------+\n",
      "|Title_null_count|Title_string_null_count|Number_of_Reviews_null_count|Number_of_Reviews_string_null_count|Image_URL_null_count|Image_URL_string_null_count|Category_null_count|Category_string_null_count|Product_ID_null_count|Product_ID_string_null_count|TIMESTAMP_null_count|TIMESTAMP_string_null_count|scrape_date_null_count|scrape_date_string_null_count|5_Star_Percentage_null_count|5_Star_Percentage_string_null_count|4_Star_Percentage_null_count|4_Star_Percentage_string_null_count|3_Star_Percentage_null_count|3_Star_Percentage_string_null_count|2_Star_Percentage_null_count|2_Star_Percentage_string_null_count|1_Star_Percentage_null_count|1_Star_Percentage_string_null_count|Bought_Last_Month_null_count|Bought_Last_Month_string_null_count|Rating_null_count|Rating_string_null_count|Price_After_Discount_null_count|Price_After_Discount_string_null_count|MRP_null_count|MRP_string_null_count|\n",
      "+----------------+-----------------------+----------------------------+-----------------------------------+--------------------+---------------------------+-------------------+--------------------------+---------------------+----------------------------+--------------------+---------------------------+----------------------+-----------------------------+----------------------------+-----------------------------------+----------------------------+-----------------------------------+----------------------------+-----------------------------------+----------------------------+-----------------------------------+----------------------------+-----------------------------------+----------------------------+-----------------------------------+-----------------+------------------------+-------------------------------+--------------------------------------+--------------+---------------------+\n",
      "|0               |0                      |0                           |0                                  |0                   |0                          |0                  |0                         |0                    |0                           |0                   |0                          |0                     |0                            |34                          |0                                  |34                          |0                                  |34                          |0                                  |34                          |0                                  |34                          |0                                  |0                           |0                                  |0                |0                       |0                              |0                                     |0             |0                    |\n",
      "+----------------+-----------------------+----------------------------+-----------------------------------+--------------------+---------------------------+-------------------+--------------------------+---------------------+----------------------------+--------------------+---------------------------+----------------------+-----------------------------+----------------------------+-----------------------------------+----------------------------+-----------------------------------+----------------------------+-----------------------------------+----------------------------+-----------------------------------+----------------------------+-----------------------------------+----------------------------+-----------------------------------+-----------------+------------------------+-------------------------------+--------------------------------------+--------------+---------------------+\n",
      "\n",
      "root\n",
      " |-- Title: string (nullable = true)\n",
      " |-- Number_of_Reviews: integer (nullable = true)\n",
      " |-- Image_URL: string (nullable = true)\n",
      " |-- Category: string (nullable = true)\n",
      " |-- Product_ID: string (nullable = true)\n",
      " |-- TIMESTAMP: string (nullable = true)\n",
      " |-- scrape_date: date (nullable = true)\n",
      " |-- 5_Star_Percentage: float (nullable = true)\n",
      " |-- 4_Star_Percentage: float (nullable = true)\n",
      " |-- 3_Star_Percentage: float (nullable = true)\n",
      " |-- 2_Star_Percentage: float (nullable = true)\n",
      " |-- 1_Star_Percentage: float (nullable = true)\n",
      " |-- Bought_Last_Month: integer (nullable = true)\n",
      " |-- Rating: double (nullable = true)\n",
      " |-- Price_After_Discount: float (nullable = true)\n",
      " |-- MRP: float (nullable = true)\n",
      "\n",
      "+--------------------------------------------------------------------------------------------------------------------------------------------------------------------------------------------------------+-----------------+----------------------------------------------------------------------------------------------------------------+----------+----------+-------------------+-----------+-----------------+-----------------+-----------------+-----------------+-----------------+-----------------+------+--------------------+------+\n",
      "|Title                                                                                                                                                                                                   |Number_of_Reviews|Image_URL                                                                                                       |Category  |Product_ID|TIMESTAMP          |scrape_date|5_Star_Percentage|4_Star_Percentage|3_Star_Percentage|2_Star_Percentage|1_Star_Percentage|Bought_Last_Month|Rating|Price_After_Discount|MRP   |\n",
      "+--------------------------------------------------------------------------------------------------------------------------------------------------------------------------------------------------------+-----------------+----------------------------------------------------------------------------------------------------------------+----------+----------+-------------------+-----------+-----------------+-----------------+-----------------+-----------------+-----------------+-----------------+------+--------------------+------+\n",
      "|soundcore by Anker Q20i Wireless Bluetooth Over-Ear Headphones with Hybrid Active Noise Cancelling, 40h Playtime in ANC Mode, Hi-Res Audio, Deep Bass, Personalization via App (Black)                  |32476            |https://m.media-amazon.com/images/I/51CnDMbXZzL._AC_UY218_.jpg                                                  |Headphones|1         |2025-07-19 03:47:20|2025-07-19 |61.0             |23.0             |7.0              |4.0              |5.0              |2000             |4.3   |4498.0              |9598.0|\n",
      "|Boult Newly Launched Soniq Over Ear Bluetooth Headphones with 70H Playtime, 40mm Bass Drivers, Zen™ ENC Mic, Type-C Fast Charging, Dual Device Pairing, BTv 5.4, AUX Option, Wireless Headphones (White)|44               |https://m.media-amazon.com/images/I/71H7RtDgncL._AC_UY218_.jpg                                                  |Headphones|2         |2025-07-19 03:47:20|2025-07-19 |null             |null             |null             |null             |null             |1000             |4.1   |1999.0              |5999.0|\n",
      "|boAt Rockerz 480 W/RGB LEDs, 6 Light Modes, 40Mm Drivers, Beast Mode, 60Hrs Playback, Enx Tech, BT V5.3, Adaptive Fit & Easy Access Controls, Bluetooth Over Ear Headphones(White Sabre)                |1612             |https://m.media-amazon.com/images/I/61cIHzCDl6L._AC_UY218_.jpg                                                  |Headphones|3         |2025-07-19 03:47:20|2025-07-19 |null             |null             |null             |null             |null             |4000             |4.1   |1799.0              |3790.0|\n",
      "|boAt Rockerz 425 Bluetooth Wireless On Ear Headphones Signature Sound, Enx Tech, ASAP Charge, 25H Playtime, Bluetooth V5.2, Dual Pairing with Mic (Ash Grey)                                            |4338             |https://m.media-amazon.com/images/I/61R4Tj5podL._AC_UY218_.jpg                                                  |Headphones|4         |2025-07-19 03:47:20|2025-07-19 |null             |null             |null             |null             |null             |1000             |3.6   |1499.0              |2999.0|\n",
      "|boAt Rockerz 450, 15 HRS Battery, 40mm Drivers, Padded Ear Cushions, Integrated Controls, Dual Modes, On Ear Bluetooth Headphones, Wireless Headphone with Mic (Luscious Black)                         |118570           |https://m.media-amazon.com/images/I/51FNnHjzhQL._AC_UY218_.jpg                                                  |Headphones|5         |2025-07-19 03:47:20|2025-07-19 |null             |null             |null             |null             |null             |5000             |4.0   |1499.0              |3990.0|\n",
      "|Boult Newly Launched Flex On Ear Bluetooth Headphones with 80H Playtime, 40mm Bass Drivers, Zen™ ENC Mic, Type-C Fast Charging, Bluetooth 5.4, AUX Option, 60ms Low Latency, IPX5 (Jet Black)           |238              |https://github.com/Avcon900/Ecom_Products_Data_analytics/blob/master/placeholder_images/placeholder.png?raw=true|Headphones|6         |2025-07-19 03:47:20|2025-07-19 |null             |null             |null             |null             |null             |500              |4.1   |1499.0              |5499.0|\n",
      "|HAMMER Vibe ENC Bluetooth Headphone, 40mm Driver, Dual Pairing, 50hrs Playtime, Voice Assistant, BT V5.4, Game Mode, Soft Cushions, Lightweight Headphones for Music, Gaming and Calls (Black)          |55               |https://github.com/Avcon900/Ecom_Products_Data_analytics/blob/master/placeholder_images/placeholder.png?raw=true|Headphones|7         |2025-07-19 03:47:20|2025-07-19 |null             |null             |null             |null             |null             |400              |4.0   |1499.0              |4999.0|\n",
      "|soundcore H30i Wireless On-Ear Headphones, Foldable Design, Pure Bass, 70H Playtime, Bluetooth 5.3, Lightweight and Comfortable, App Connectivity, Multipoint Connection                                |6767             |https://github.com/Avcon900/Ecom_Products_Data_analytics/blob/master/placeholder_images/placeholder.png?raw=true|Headphones|8         |2025-07-19 03:47:20|2025-07-19 |null             |null             |null             |null             |null             |400              |4.1   |1899.0              |4499.0|\n",
      "|Honeywell New Launched Moxie V20 Bluetooth v5.4 On-Ear Headphones with Mic, ENC, 25H Playback, Deep Bass, IPX4, Aux, Stereo Sound, 40ms Low Latency Gaming Mode, Padded Cushion                         |33               |https://github.com/Avcon900/Ecom_Products_Data_analytics/blob/master/placeholder_images/placeholder.png?raw=true|Headphones|9         |2025-07-19 03:47:20|2025-07-19 |null             |null             |null             |null             |null             |100              |4.6   |1399.0              |1999.0|\n",
      "|AILIHEN Kids Wired Headphones for School, Headphones with Microphone for Chromebook Laptop Computer Smartphone, 3.5mm Foldable Lightweight Headphones for Teen Teenager (Rose Gold)                     |3                |https://github.com/Avcon900/Ecom_Products_Data_analytics/blob/master/placeholder_images/placeholder.png?raw=true|Headphones|10        |2025-07-19 03:47:20|2025-07-19 |null             |null             |null             |null             |null             |0                |4.1   |1611.0              |2625.0|\n",
      "|Boat BassHeads 100 in-Ear Headphones with Mic (Black)                                                                                                                                                   |422091           |https://m.media-amazon.com/images/I/513ugd16C6L._AC_UY218_.jpg                                                  |Headphones|11        |2025-07-19 03:47:20|2025-07-19 |null             |null             |null             |null             |null             |5000             |4.1   |399.0               |999.0 |\n",
      "|Sony MDR-ZX110A On Ear Stereo Wired Headphones (White), Without Mic                                                                                                                                     |67121            |https://m.media-amazon.com/images/I/41BoLKMYjnL._AC_UY218_.jpg                                                  |Headphones|12        |2025-07-19 03:47:20|2025-07-19 |null             |null             |null             |null             |null             |3000             |4.0   |847.0               |1390.0|\n",
      "|JBL Tune 510BT, On Ear Wireless Headphones with Mic, up to 40 Hours Playtime, Pure Bass, Quick Charging, Dual Pairing, Bluetooth 5.0 & Voice Assistant Support for Mobile Phones (Black)                |20584            |https://m.media-amazon.com/images/I/61kFL7ywsZS._AC_UY218_.jpg                                                  |Headphones|13        |2025-07-19 03:47:20|2025-07-19 |null             |null             |null             |null             |null             |3000             |4.1   |2799.0              |4449.0|\n",
      "|boAt New Launch Rockerz 650 Pro, Touch/Swipe Controls, Dolby Audio, 80Hrs Battery, 2Mics ENx, Fast Charge, App Support, Dual Pair, Bluetooth Over Ear Headphones with Mic (Iris Black)                  |882              |https://m.media-amazon.com/images/I/61-XNG5lPBL._AC_UY218_.jpg                                                  |Headphones|14        |2025-07-19 03:47:20|2025-07-19 |null             |null             |null             |null             |null             |4000             |4.3   |2968.0              |8990.0|\n",
      "|boAt Rockerz 450, 15 HRS Battery, 40mm Drivers, Padded Ear Cushions, Integrated Controls, Dual Modes, On Ear Bluetooth Headphones, Wireless Headphone with Mic (Hazel Beige)                            |118570           |https://m.media-amazon.com/images/I/51Tf2zsMODL._AC_UY218_.jpg                                                  |Headphones|15        |2025-07-19 03:47:20|2025-07-19 |null             |null             |null             |null             |null             |3000             |4.0   |1599.0              |3990.0|\n",
      "|Boult Q Over Ear Bluetooth Headphones with 70H Playtime, 40mm Bass Drivers, Zen™ ENC Mic, Type-C Fast Charging, 4 EQ Modes, BTv 5.4, AUX Option, Easy Control, IPX5 headphones wireless with mic (Black)|3537             |https://m.media-amazon.com/images/I/71zfpkr4bYL._AC_UY218_.jpg                                                  |Headphones|16        |2025-07-19 03:47:20|2025-07-19 |null             |null             |null             |null             |null             |5000             |4.1   |1999.0              |5999.0|\n",
      "|Samsung Galaxy Buds Core (Black) with Galaxy AI | Powerful Active Noise Cancellation | Enriched Bass | IP54                                                                                             |45               |https://m.media-amazon.com/images/I/61WRrNa6BIL._AC_UY218_.jpg                                                  |Headphones|17        |2025-07-19 03:47:20|2025-07-19 |null             |null             |null             |null             |null             |0                |3.8   |4999.0              |9999.0|\n",
      "|ZEBRONICS THUNDER Bluetooth 5.3 Wireless Headphones with 60H Backup, Gaming Mode, Dual Pairing, ENC, AUX, Micro SD, Voice assistant, Comfortable Earcups, Call Function(Black)                          |25128            |https://m.media-amazon.com/images/I/618-45t0P5L._AC_UY218_.jpg                                                  |Headphones|18        |2025-07-19 03:47:20|2025-07-19 |null             |null             |null             |null             |null             |3000             |3.7   |799.0               |1199.0|\n",
      "|Boult Audio Z40 True Wireless in Ear Earbuds with 60H Playtime, Zen™ ENC Mic, Low Latency Gaming, Type-C Fast Charging, Made in India, 10mm Rich Bass Drivers, IPX5, Bluetooth 5.3 Ear Buds TWS (Blue)  |0                |https://github.com/Avcon900/Ecom_Products_Data_analytics/blob/master/placeholder_images/placeholder.png?raw=true|Headphones|19        |2025-07-19 03:47:20|2025-07-19 |0.0              |0.0              |0.0              |0.0              |0.0              |0                |3.8   |999.0               |4999.0|\n",
      "|boAt Rockerz 113 (2025 Launch), 40 Hrs Playback, Dual Pair, Fast Charge, ENx Tech, Low Latency, Magnetic Buds, Bluetooth Neckband, Wireless with Mic Earphones(Active Black)                            |187              |https://m.media-amazon.com/images/I/61B5hIAmvdL._AC_UY218_.jpg                                                  |Headphones|20        |2025-07-19 03:47:20|2025-07-19 |null             |null             |null             |null             |null             |5000             |4.1   |899.0               |2490.0|\n",
      "+--------------------------------------------------------------------------------------------------------------------------------------------------------------------------------------------------------+-----------------+----------------------------------------------------------------------------------------------------------------+----------+----------+-------------------+-----------+-----------------+-----------------+-----------------+-----------------+-----------------+-----------------+------+--------------------+------+\n",
      "only showing top 20 rows\n",
      "\n"
     ]
    }
   ],
   "source": [
    "get_null_empty_counts(bronze_df)\n",
    "bronze_df.printSchema()\n",
    "bronze_df.show(truncate=False)"
   ]
  },
  {
   "cell_type": "code",
   "execution_count": 25,
   "id": "c50d130d",
   "metadata": {},
   "outputs": [],
   "source": [
    "bronze_df = bronze_df.drop(\"Product_ID\")"
   ]
  },
  {
   "cell_type": "code",
   "execution_count": 26,
   "id": "36a028d9",
   "metadata": {},
   "outputs": [
    {
     "name": "stdout",
     "output_type": "stream",
     "text": [
      "+----------------+-----------------------+----------------------------+-----------------------------------+--------------------+---------------------------+-------------------+--------------------------+--------------------+---------------------------+----------------------+-----------------------------+----------------------------+-----------------------------------+----------------------------+-----------------------------------+----------------------------+-----------------------------------+----------------------------+-----------------------------------+----------------------------+-----------------------------------+----------------------------+-----------------------------------+-----------------+------------------------+-------------------------------+--------------------------------------+--------------+---------------------+-----------------------+------------------------------+\n",
      "|Title_null_count|Title_string_null_count|Number_of_Reviews_null_count|Number_of_Reviews_string_null_count|Image_URL_null_count|Image_URL_string_null_count|Category_null_count|Category_string_null_count|TIMESTAMP_null_count|TIMESTAMP_string_null_count|scrape_date_null_count|scrape_date_string_null_count|5_Star_Percentage_null_count|5_Star_Percentage_string_null_count|4_Star_Percentage_null_count|4_Star_Percentage_string_null_count|3_Star_Percentage_null_count|3_Star_Percentage_string_null_count|2_Star_Percentage_null_count|2_Star_Percentage_string_null_count|1_Star_Percentage_null_count|1_Star_Percentage_string_null_count|Bought_Last_Month_null_count|Bought_Last_Month_string_null_count|Rating_null_count|Rating_string_null_count|Price_After_Discount_null_count|Price_After_Discount_string_null_count|MRP_null_count|MRP_string_null_count|Product_Name_null_count|Product_Name_string_null_count|\n",
      "+----------------+-----------------------+----------------------------+-----------------------------------+--------------------+---------------------------+-------------------+--------------------------+--------------------+---------------------------+----------------------+-----------------------------+----------------------------+-----------------------------------+----------------------------+-----------------------------------+----------------------------+-----------------------------------+----------------------------+-----------------------------------+----------------------------+-----------------------------------+----------------------------+-----------------------------------+-----------------+------------------------+-------------------------------+--------------------------------------+--------------+---------------------+-----------------------+------------------------------+\n",
      "|0               |0                      |0                           |0                                  |0                   |0                          |0                  |0                         |0                   |0                          |0                     |0                            |34                          |0                                  |34                          |0                                  |34                          |0                                  |34                          |0                                  |34                          |0                                  |0                           |0                                  |0                |0                       |0                              |0                                     |0             |0                    |0                      |0                             |\n",
      "+----------------+-----------------------+----------------------------+-----------------------------------+--------------------+---------------------------+-------------------+--------------------------+--------------------+---------------------------+----------------------+-----------------------------+----------------------------+-----------------------------------+----------------------------+-----------------------------------+----------------------------+-----------------------------------+----------------------------+-----------------------------------+----------------------------+-----------------------------------+----------------------------+-----------------------------------+-----------------+------------------------+-------------------------------+--------------------------------------+--------------+---------------------+-----------------------+------------------------------+\n",
      "\n",
      "root\n",
      " |-- Title: string (nullable = true)\n",
      " |-- Number_of_Reviews: integer (nullable = true)\n",
      " |-- Image_URL: string (nullable = true)\n",
      " |-- Category: string (nullable = true)\n",
      " |-- TIMESTAMP: string (nullable = true)\n",
      " |-- scrape_date: date (nullable = true)\n",
      " |-- 5_Star_Percentage: float (nullable = true)\n",
      " |-- 4_Star_Percentage: float (nullable = true)\n",
      " |-- 3_Star_Percentage: float (nullable = true)\n",
      " |-- 2_Star_Percentage: float (nullable = true)\n",
      " |-- 1_Star_Percentage: float (nullable = true)\n",
      " |-- Bought_Last_Month: integer (nullable = true)\n",
      " |-- Rating: double (nullable = true)\n",
      " |-- Price_After_Discount: float (nullable = true)\n",
      " |-- MRP: float (nullable = true)\n",
      " |-- Product_Name: string (nullable = true)\n",
      "\n",
      "+--------------------------------------------------------------------------------------------------------------------------------------------------------------------------------------------------------+-----------------+----------------------------------------------------------------------------------------------------------------+----------+-------------------+-----------+-----------------+-----------------+-----------------+-----------------+-----------------+-----------------+------+--------------------+------+------------------------------------------+\n",
      "|Title                                                                                                                                                                                                   |Number_of_Reviews|Image_URL                                                                                                       |Category  |TIMESTAMP          |scrape_date|5_Star_Percentage|4_Star_Percentage|3_Star_Percentage|2_Star_Percentage|1_Star_Percentage|Bought_Last_Month|Rating|Price_After_Discount|MRP   |Product_Name                              |\n",
      "+--------------------------------------------------------------------------------------------------------------------------------------------------------------------------------------------------------+-----------------+----------------------------------------------------------------------------------------------------------------+----------+-------------------+-----------+-----------------+-----------------+-----------------+-----------------+-----------------+-----------------+------+--------------------+------+------------------------------------------+\n",
      "|soundcore by Anker Q20i Wireless Bluetooth Over-Ear Headphones with Hybrid Active Noise Cancelling, 40h Playtime in ANC Mode, Hi-Res Audio, Deep Bass, Personalization via App (Black)                  |32476            |https://m.media-amazon.com/images/I/51CnDMbXZzL._AC_UY218_.jpg                                                  |Headphones|2025-07-19 03:47:20|2025-07-19 |61.0             |23.0             |7.0              |4.0              |5.0              |2000             |4.3   |4498.0              |9598.0|soundcore by Anker Q20i Wireless          |\n",
      "|Boult Newly Launched Soniq Over Ear Bluetooth Headphones with 70H Playtime, 40mm Bass Drivers, Zen™ ENC Mic, Type-C Fast Charging, Dual Device Pairing, BTv 5.4, AUX Option, Wireless Headphones (White)|44               |https://m.media-amazon.com/images/I/71H7RtDgncL._AC_UY218_.jpg                                                  |Headphones|2025-07-19 03:47:20|2025-07-19 |null             |null             |null             |null             |null             |1000             |4.1   |1999.0              |5999.0|Boult Newly Launched Soniq Over           |\n",
      "|boAt Rockerz 480 W/RGB LEDs, 6 Light Modes, 40Mm Drivers, Beast Mode, 60Hrs Playback, Enx Tech, BT V5.3, Adaptive Fit & Easy Access Controls, Bluetooth Over Ear Headphones(White Sabre)                |1612             |https://m.media-amazon.com/images/I/61cIHzCDl6L._AC_UY218_.jpg                                                  |Headphones|2025-07-19 03:47:20|2025-07-19 |null             |null             |null             |null             |null             |4000             |4.1   |1799.0              |3790.0|boAt Rockerz 480 W/RGB LEDs,              |\n",
      "|boAt Rockerz 425 Bluetooth Wireless On Ear Headphones Signature Sound, Enx Tech, ASAP Charge, 25H Playtime, Bluetooth V5.2, Dual Pairing with Mic (Ash Grey)                                            |4338             |https://m.media-amazon.com/images/I/61R4Tj5podL._AC_UY218_.jpg                                                  |Headphones|2025-07-19 03:47:20|2025-07-19 |null             |null             |null             |null             |null             |1000             |3.6   |1499.0              |2999.0|boAt Rockerz 425 Bluetooth Wireless       |\n",
      "|boAt Rockerz 450, 15 HRS Battery, 40mm Drivers, Padded Ear Cushions, Integrated Controls, Dual Modes, On Ear Bluetooth Headphones, Wireless Headphone with Mic (Luscious Black)                         |118570           |https://m.media-amazon.com/images/I/51FNnHjzhQL._AC_UY218_.jpg                                                  |Headphones|2025-07-19 03:47:20|2025-07-19 |null             |null             |null             |null             |null             |5000             |4.0   |1499.0              |3990.0|boAt Rockerz 450, 15 HRS                  |\n",
      "|Boult Newly Launched Flex On Ear Bluetooth Headphones with 80H Playtime, 40mm Bass Drivers, Zen™ ENC Mic, Type-C Fast Charging, Bluetooth 5.4, AUX Option, 60ms Low Latency, IPX5 (Jet Black)           |238              |https://github.com/Avcon900/Ecom_Products_Data_analytics/blob/master/placeholder_images/placeholder.png?raw=true|Headphones|2025-07-19 03:47:20|2025-07-19 |null             |null             |null             |null             |null             |500              |4.1   |1499.0              |5499.0|Boult Newly Launched Flex On              |\n",
      "|HAMMER Vibe ENC Bluetooth Headphone, 40mm Driver, Dual Pairing, 50hrs Playtime, Voice Assistant, BT V5.4, Game Mode, Soft Cushions, Lightweight Headphones for Music, Gaming and Calls (Black)          |55               |https://github.com/Avcon900/Ecom_Products_Data_analytics/blob/master/placeholder_images/placeholder.png?raw=true|Headphones|2025-07-19 03:47:20|2025-07-19 |null             |null             |null             |null             |null             |400              |4.0   |1499.0              |4999.0|HAMMER Vibe ENC Bluetooth Headphone,      |\n",
      "|soundcore H30i Wireless On-Ear Headphones, Foldable Design, Pure Bass, 70H Playtime, Bluetooth 5.3, Lightweight and Comfortable, App Connectivity, Multipoint Connection                                |6767             |https://github.com/Avcon900/Ecom_Products_Data_analytics/blob/master/placeholder_images/placeholder.png?raw=true|Headphones|2025-07-19 03:47:20|2025-07-19 |null             |null             |null             |null             |null             |400              |4.1   |1899.0              |4499.0|soundcore H30i Wireless On-Ear Headphones,|\n",
      "|Honeywell New Launched Moxie V20 Bluetooth v5.4 On-Ear Headphones with Mic, ENC, 25H Playback, Deep Bass, IPX4, Aux, Stereo Sound, 40ms Low Latency Gaming Mode, Padded Cushion                         |33               |https://github.com/Avcon900/Ecom_Products_Data_analytics/blob/master/placeholder_images/placeholder.png?raw=true|Headphones|2025-07-19 03:47:20|2025-07-19 |null             |null             |null             |null             |null             |100              |4.6   |1399.0              |1999.0|Honeywell New Launched Moxie V20          |\n",
      "|AILIHEN Kids Wired Headphones for School, Headphones with Microphone for Chromebook Laptop Computer Smartphone, 3.5mm Foldable Lightweight Headphones for Teen Teenager (Rose Gold)                     |3                |https://github.com/Avcon900/Ecom_Products_Data_analytics/blob/master/placeholder_images/placeholder.png?raw=true|Headphones|2025-07-19 03:47:20|2025-07-19 |null             |null             |null             |null             |null             |0                |4.1   |1611.0              |2625.0|AILIHEN Kids Wired Headphones for         |\n",
      "|Boat BassHeads 100 in-Ear Headphones with Mic (Black)                                                                                                                                                   |422091           |https://m.media-amazon.com/images/I/513ugd16C6L._AC_UY218_.jpg                                                  |Headphones|2025-07-19 03:47:20|2025-07-19 |null             |null             |null             |null             |null             |5000             |4.1   |399.0               |999.0 |Boat BassHeads 100 in-Ear Headphones      |\n",
      "|Sony MDR-ZX110A On Ear Stereo Wired Headphones (White), Without Mic                                                                                                                                     |67121            |https://m.media-amazon.com/images/I/41BoLKMYjnL._AC_UY218_.jpg                                                  |Headphones|2025-07-19 03:47:20|2025-07-19 |null             |null             |null             |null             |null             |3000             |4.0   |847.0               |1390.0|Sony MDR-ZX110A On Ear Stereo             |\n",
      "|JBL Tune 510BT, On Ear Wireless Headphones with Mic, up to 40 Hours Playtime, Pure Bass, Quick Charging, Dual Pairing, Bluetooth 5.0 & Voice Assistant Support for Mobile Phones (Black)                |20584            |https://m.media-amazon.com/images/I/61kFL7ywsZS._AC_UY218_.jpg                                                  |Headphones|2025-07-19 03:47:20|2025-07-19 |null             |null             |null             |null             |null             |3000             |4.1   |2799.0              |4449.0|JBL Tune 510BT, On Ear                    |\n",
      "|boAt New Launch Rockerz 650 Pro, Touch/Swipe Controls, Dolby Audio, 80Hrs Battery, 2Mics ENx, Fast Charge, App Support, Dual Pair, Bluetooth Over Ear Headphones with Mic (Iris Black)                  |882              |https://m.media-amazon.com/images/I/61-XNG5lPBL._AC_UY218_.jpg                                                  |Headphones|2025-07-19 03:47:20|2025-07-19 |null             |null             |null             |null             |null             |4000             |4.3   |2968.0              |8990.0|boAt New Launch Rockerz 650               |\n",
      "|boAt Rockerz 450, 15 HRS Battery, 40mm Drivers, Padded Ear Cushions, Integrated Controls, Dual Modes, On Ear Bluetooth Headphones, Wireless Headphone with Mic (Hazel Beige)                            |118570           |https://m.media-amazon.com/images/I/51Tf2zsMODL._AC_UY218_.jpg                                                  |Headphones|2025-07-19 03:47:20|2025-07-19 |null             |null             |null             |null             |null             |3000             |4.0   |1599.0              |3990.0|boAt Rockerz 450, 15 HRS                  |\n",
      "|Boult Q Over Ear Bluetooth Headphones with 70H Playtime, 40mm Bass Drivers, Zen™ ENC Mic, Type-C Fast Charging, 4 EQ Modes, BTv 5.4, AUX Option, Easy Control, IPX5 headphones wireless with mic (Black)|3537             |https://m.media-amazon.com/images/I/71zfpkr4bYL._AC_UY218_.jpg                                                  |Headphones|2025-07-19 03:47:20|2025-07-19 |null             |null             |null             |null             |null             |5000             |4.1   |1999.0              |5999.0|Boult Q Over Ear Bluetooth                |\n",
      "|Samsung Galaxy Buds Core (Black) with Galaxy AI | Powerful Active Noise Cancellation | Enriched Bass | IP54                                                                                             |45               |https://m.media-amazon.com/images/I/61WRrNa6BIL._AC_UY218_.jpg                                                  |Headphones|2025-07-19 03:47:20|2025-07-19 |null             |null             |null             |null             |null             |0                |3.8   |4999.0              |9999.0|Samsung Galaxy Buds Core (Black)          |\n",
      "|ZEBRONICS THUNDER Bluetooth 5.3 Wireless Headphones with 60H Backup, Gaming Mode, Dual Pairing, ENC, AUX, Micro SD, Voice assistant, Comfortable Earcups, Call Function(Black)                          |25128            |https://m.media-amazon.com/images/I/618-45t0P5L._AC_UY218_.jpg                                                  |Headphones|2025-07-19 03:47:20|2025-07-19 |null             |null             |null             |null             |null             |3000             |3.7   |799.0               |1199.0|ZEBRONICS THUNDER Bluetooth 5.3 Wireless  |\n",
      "|Boult Audio Z40 True Wireless in Ear Earbuds with 60H Playtime, Zen™ ENC Mic, Low Latency Gaming, Type-C Fast Charging, Made in India, 10mm Rich Bass Drivers, IPX5, Bluetooth 5.3 Ear Buds TWS (Blue)  |0                |https://github.com/Avcon900/Ecom_Products_Data_analytics/blob/master/placeholder_images/placeholder.png?raw=true|Headphones|2025-07-19 03:47:20|2025-07-19 |0.0              |0.0              |0.0              |0.0              |0.0              |0                |3.8   |999.0               |4999.0|Boult Audio Z40 True Wireless             |\n",
      "|boAt Rockerz 113 (2025 Launch), 40 Hrs Playback, Dual Pair, Fast Charge, ENx Tech, Low Latency, Magnetic Buds, Bluetooth Neckband, Wireless with Mic Earphones(Active Black)                            |187              |https://m.media-amazon.com/images/I/61B5hIAmvdL._AC_UY218_.jpg                                                  |Headphones|2025-07-19 03:47:20|2025-07-19 |null             |null             |null             |null             |null             |5000             |4.1   |899.0               |2490.0|boAt Rockerz 113 (2025 Launch),           |\n",
      "+--------------------------------------------------------------------------------------------------------------------------------------------------------------------------------------------------------+-----------------+----------------------------------------------------------------------------------------------------------------+----------+-------------------+-----------+-----------------+-----------------+-----------------+-----------------+-----------------+-----------------+------+--------------------+------+------------------------------------------+\n",
      "only showing top 20 rows\n",
      "\n"
     ]
    }
   ],
   "source": [
    "# Truncate \"Title\" to \"Product_Name\" to a maximum of 5 words\n",
    "from pyspark.sql.functions import split, size, expr\n",
    "\n",
    "bronze_df = bronze_df.withColumn(\n",
    "    \"Product_Name\",\n",
    "    expr(\"\"\"\n",
    "        CASE \n",
    "            WHEN size(split(Title, ' ')) <= 5 THEN Title\n",
    "            ELSE concat_ws(' ', slice(split(Title, ' '), 1, 5))\n",
    "        END\n",
    "    \"\"\")\n",
    ")\n",
    "\n",
    "get_null_empty_counts(bronze_df)\n",
    "bronze_df.printSchema()\n",
    "bronze_df.show(truncate=False)"
   ]
  },
  {
   "cell_type": "code",
   "execution_count": 27,
   "id": "87638cdc",
   "metadata": {},
   "outputs": [],
   "source": [
    "# One-time creation of base directories\n",
    "os.makedirs(\"data_lake/silver/products\", exist_ok=True)"
   ]
  },
  {
   "cell_type": "code",
   "execution_count": 28,
   "id": "e05d2669",
   "metadata": {},
   "outputs": [
    {
     "name": "stdout",
     "output_type": "stream",
     "text": [
      "High-watermark updated to: 2025-07-19\n"
     ]
    }
   ],
   "source": [
    "from pyspark.sql.functions import col, lit, max as spark_max\n",
    "import datetime # For default high-watermark and example update\n",
    "\n",
    "# Write the cleaned DataFrame to Delta Lake in the silver layer\n",
    "bronze_df.write.format(\"delta\").mode(\"append\").partitionBy(\"scrape_date\").save(\"data_lake/silver/products/\")\n",
    "\n",
    "new_max_date_obj = bronze_df.agg(spark_max(\"scrape_date\")).collect()[0][0] # This is a datetime.date object or None\n",
    "\n",
    "new_max_date_str = None # Initialize a string variable\n",
    "\n",
    "if new_max_date_obj is None:\n",
    "    # If no data was processed, use today's date as a string\n",
    "    new_max_date_str = datetime.date.today().strftime('%Y-%m-%d')\n",
    "else:\n",
    "    # If data was processed, convert the datetime.date object to a string\n",
    "    new_max_date_str = new_max_date_obj.strftime('%Y-%m-%d')\n",
    "\n",
    "# Persist the new high-watermark string\n",
    "with open(last_processed_timestamp_file, 'w') as f:\n",
    "    f.write(new_max_date_str) # <--- Always a string now\n",
    "print(f\"High-watermark updated to: {new_max_date_str}\")"
   ]
  },
  {
   "cell_type": "code",
   "execution_count": 10,
   "id": "46803c80",
   "metadata": {},
   "outputs": [],
   "source": [
    "spark.stop()  # Stop the Spark session when done"
   ]
  }
 ],
 "metadata": {
  "kernelspec": {
   "display_name": "env",
   "language": "python",
   "name": "python3"
  },
  "language_info": {
   "codemirror_mode": {
    "name": "ipython",
    "version": 3
   },
   "file_extension": ".py",
   "mimetype": "text/x-python",
   "name": "python",
   "nbconvert_exporter": "python",
   "pygments_lexer": "ipython3",
   "version": "3.10.0"
  }
 },
 "nbformat": 4,
 "nbformat_minor": 5
}
